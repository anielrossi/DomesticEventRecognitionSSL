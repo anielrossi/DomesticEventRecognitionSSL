{
 "cells": [
  {
   "cell_type": "code",
   "execution_count": 1,
   "metadata": {},
   "outputs": [],
   "source": [
    "from sklearn import svm, model_selection\n",
    "from sklearn import metrics\n",
    "from sklearn.preprocessing import normalize\n",
    "import json\n",
    "import itertools\n",
    "import utils\n",
    "import pandas as pd\n",
    "import numpy as np\n",
    "import matplotlib.pyplot as plt"
   ]
  },
  {
   "cell_type": "code",
   "execution_count": 2,
   "metadata": {},
   "outputs": [],
   "source": [
    "def svc_param_selection(X, y, nfolds):\n",
    "    Cs = [0.001, 0.01, 0.1, 1, 10]\n",
    "    gammas = [0.001, 0.01, 0.1, 1]\n",
    "    param_grid = {'C': Cs, 'gamma' : gammas}\n",
    "    grid_search = model_selection.GridSearchCV(svm.SVC(kernel='rbf'), param_grid, cv=nfolds)\n",
    "    grid_search.fit(X, y)\n",
    "    grid_search.best_params_\n",
    "    return grid_search.best_params_"
   ]
  },
  {
   "cell_type": "code",
   "execution_count": 3,
   "metadata": {},
   "outputs": [],
   "source": [
    "def plot_confusion_matrix(cm, classes,\n",
    "                          normalize=False,\n",
    "                          title='Confusion matrix',\n",
    "                          cmap=plt.cm.Blues):\n",
    "    \"\"\"\n",
    "    This function prints and plots the confusion matrix.\n",
    "    Normalization can be applied by setting `normalize=True`.\n",
    "    \"\"\"\n",
    "    if normalize:\n",
    "        cm = cm.astype('float') / cm.sum(axis=1)[:, np.newaxis]\n",
    "        print(\"Normalized confusion matrix\")\n",
    "    else:\n",
    "        print('Confusion matrix, without normalization')\n",
    "\n",
    "    print(cm)\n",
    "\n",
    "    plt.imshow(cm, interpolation='nearest', cmap=cmap)\n",
    "    plt.title(title)\n",
    "    plt.colorbar()\n",
    "    tick_marks = np.arange(len(classes))\n",
    "    plt.xticks(tick_marks, classes, rotation=45)\n",
    "    plt.yticks(tick_marks, classes)\n",
    "\n",
    "    fmt = '.2f' if normalize else 'd'\n",
    "    thresh = cm.max() / 2.\n",
    "    for i, j in itertools.product(range(cm.shape[0]), range(cm.shape[1])):\n",
    "        plt.text(j, i, format(cm[i, j], fmt),\n",
    "                 horizontalalignment=\"center\",\n",
    "                 color=\"white\" if cm[i, j] > thresh else \"black\")\n",
    "\n",
    "    plt.tight_layout()\n",
    "    plt.ylabel('True label')\n",
    "    plt.xlabel('Predicted label')"
   ]
  },
  {
   "cell_type": "code",
   "execution_count": 4,
   "metadata": {},
   "outputs": [
    {
     "name": "stdout",
     "output_type": "stream",
     "text": [
      "Loaded test dataset with 13 classes:\n",
      "\tCoin (dropping): 46 sounds\n",
      "\tCupboard open or close: 27 sounds\n",
      "\tDoor: 40 sounds\n",
      "\tDrawer open or close: 49 sounds\n",
      "\tKeys jangling: 52 sounds\n",
      "\tMicrowave oven: 36 sounds\n",
      "\tPacking tape, duct tape: 35 sounds\n",
      "\tScissors: 52 sounds\n",
      "\tToilet flush: 66 sounds\n",
      "\tTyping: 64 sounds\n",
      "\tVacuum cleaner: 44 sounds\n",
      "\tWriting: 71 sounds\n",
      "\tZipper (clothing): 49 sounds\n",
      "Loaded train dataset with 13 classes:\n",
      "\tCoin (dropping): 80 sounds\n",
      "\tCupboard open or close: 64 sounds\n",
      "\tDoor: 101 sounds\n",
      "\tDrawer open or close: 67 sounds\n",
      "\tKeys jangling: 70 sounds\n",
      "\tMicrowave oven: 62 sounds\n",
      "\tPacking tape, duct tape: 60 sounds\n",
      "\tScissors: 74 sounds\n",
      "\tToilet flush: 90 sounds\n",
      "\tTyping: 89 sounds\n",
      "\tVacuum cleaner: 58 sounds\n",
      "\tWriting: 76 sounds\n",
      "\tZipper (clothing): 83 sounds\n",
      "Loaded candidates_limited with 13 classes:\n",
      "\tCoin (dropping): 300 sounds\n",
      "\tCupboard open or close: 247 sounds\n",
      "\tDoor: 300 sounds\n",
      "\tDrawer open or close: 258 sounds\n",
      "\tKeys jangling: 300 sounds\n",
      "\tMicrowave oven: 285 sounds\n",
      "\tPacking tape, duct tape: 150 sounds\n",
      "\tScissors: 200 sounds\n",
      "\tToilet flush: 300 sounds\n",
      "\tTyping: 266 sounds\n",
      "\tVacuum cleaner: 188 sounds\n",
      "\tWriting: 300 sounds\n",
      "\tZipper (clothing): 300 sounds\n",
      "Loaded candidates with 13 classes:\n",
      "\tCoin (dropping): 1157 sounds\n",
      "\tCupboard open or close: 247 sounds\n",
      "\tDoor: 1691 sounds\n",
      "\tDrawer open or close: 258 sounds\n",
      "\tKeys jangling: 325 sounds\n",
      "\tMicrowave oven: 285 sounds\n",
      "\tPacking tape, duct tape: 150 sounds\n",
      "\tScissors: 200 sounds\n",
      "\tToilet flush: 482 sounds\n",
      "\tTyping: 266 sounds\n",
      "\tVacuum cleaner: 188 sounds\n",
      "\tWriting: 500 sounds\n",
      "\tZipper (clothing): 499 sounds\n"
     ]
    }
   ],
   "source": [
    "DATASET_NAME = '../../json_final/generated/baseline'\n",
    "test_set = utils.load_from_json('%s_test.json' % DATASET_NAME)\n",
    "train_set = utils.load_from_json('%s_train_hq.json' % DATASET_NAME)\n",
    "candidates_limited = utils.load_from_json('%s_candidates_limited.json' % DATASET_NAME)\n",
    "candidates = utils.load_from_json('%s_candidates.json' % DATASET_NAME)\n",
    "\n",
    "print('Loaded test dataset with %i classes:' % len(test_set))\n",
    "for klass, sounds in test_set.items():\n",
    "    print('\\t%s: %i sounds' % (klass, len(sounds)))\n",
    "print('Loaded train dataset with %i classes:' % len(train_set))\n",
    "for klass, sounds in train_set.items():\n",
    "    print('\\t%s: %i sounds' % (klass, len(sounds)))\n",
    "print('Loaded candidates_limited with %i classes:' % len(candidates_limited))\n",
    "for klass, sounds in candidates_limited.items():\n",
    "    print('\\t%s: %i sounds' % (klass, len(sounds)))\n",
    "print('Loaded candidates with %i classes:' % len(candidates))\n",
    "for klass, sounds in candidates.items():\n",
    "    print('\\t%s: %i sounds' % (klass, len(sounds)))\n",
    "class_names = list(test_set.keys())"
   ]
  },
  {
   "cell_type": "code",
   "execution_count": 5,
   "metadata": {},
   "outputs": [],
   "source": [
    "for key in candidates_limited.keys():\n",
    "    for i in range(len(candidates_limited[key])):\n",
    "        train_set[key].append(candidates_limited[key][i])"
   ]
  },
  {
   "cell_type": "code",
   "execution_count": 6,
   "metadata": {},
   "outputs": [
    {
     "name": "stdout",
     "output_type": "stream",
     "text": [
      "\tCoin (dropping): 380 sounds\n",
      "\tCupboard open or close: 311 sounds\n",
      "\tDoor: 401 sounds\n",
      "\tDrawer open or close: 325 sounds\n",
      "\tKeys jangling: 370 sounds\n",
      "\tMicrowave oven: 347 sounds\n",
      "\tPacking tape, duct tape: 210 sounds\n",
      "\tScissors: 274 sounds\n",
      "\tToilet flush: 390 sounds\n",
      "\tTyping: 355 sounds\n",
      "\tVacuum cleaner: 246 sounds\n",
      "\tWriting: 376 sounds\n",
      "\tZipper (clothing): 383 sounds\n"
     ]
    }
   ],
   "source": [
    "for klass, sounds in train_set.items():\n",
    "    print('\\t%s: %i sounds' % (klass, len(sounds)))"
   ]
  },
  {
   "cell_type": "code",
   "execution_count": 7,
   "metadata": {},
   "outputs": [
    {
     "data": {
      "text/plain": [
       "['Coin (dropping)',\n",
       " 'Cupboard open or close',\n",
       " 'Door',\n",
       " 'Drawer open or close',\n",
       " 'Keys jangling',\n",
       " 'Microwave oven',\n",
       " 'Packing tape, duct tape',\n",
       " 'Scissors',\n",
       " 'Toilet flush',\n",
       " 'Typing',\n",
       " 'Vacuum cleaner',\n",
       " 'Writing',\n",
       " 'Zipper (clothing)']"
      ]
     },
     "execution_count": 7,
     "metadata": {},
     "output_type": "execute_result"
    }
   ],
   "source": [
    "class_names"
   ]
  },
  {
   "cell_type": "code",
   "execution_count": 8,
   "metadata": {},
   "outputs": [],
   "source": [
    "# CODE TO CLEAN DATASET (remove sounds which do not have analysis information)\n",
    "test_cleaned = {}\n",
    "for key, sounds in test_set.items():\n",
    "    if key not in test_cleaned:\n",
    "        test_cleaned[key] = []\n",
    "    for sound in sounds:\n",
    "        if sound['analysis'] is not None:\n",
    "            test_cleaned[key].append(sound)\n",
    "train_cleaned = {}\n",
    "for key, sounds in train_set.items():\n",
    "    if key not in train_cleaned:\n",
    "        train_cleaned[key] = []\n",
    "    for sound in sounds:\n",
    "        if sound['analysis'] is not None:\n",
    "            train_cleaned[key].append(sound)"
   ]
  },
  {
   "cell_type": "code",
   "execution_count": 9,
   "metadata": {},
   "outputs": [],
   "source": [
    "def build_feature_vector(sound):\n",
    "    features = []\n",
    "    #add control if they have it or not\n",
    "    if (sound['analysis']):\n",
    "        mfcc_1 = sound['analysis']['lowlevel']['mfcc']['mean'][1]\n",
    "        mfcc_1_1 = sound['analysis']['lowlevel']['mfcc']['dmean'][1]\n",
    "        mfcc_2 = sound['analysis']['lowlevel']['mfcc']['mean'][2]\n",
    "        mfcc_2_1 = sound['analysis']['lowlevel']['mfcc']['dmean'][2]\n",
    "        mfcc_3 = sound['analysis']['lowlevel']['mfcc']['mean'][3]\n",
    "        mfcc_3_1 = sound['analysis']['lowlevel']['mfcc']['dmean'][3]\n",
    "        mfcc_4 = sound['analysis']['lowlevel']['mfcc']['mean'][4]\n",
    "        mfcc_4_1 = sound['analysis']['lowlevel']['mfcc']['dmean'][4]\n",
    "        mfcc_5 = sound['analysis']['lowlevel']['mfcc']['mean'][5]\n",
    "        mfcc_5_1 = sound['analysis']['lowlevel']['mfcc']['dmean'][5]\n",
    "        mfcc_6 = sound['analysis']['lowlevel']['mfcc']['mean'][6]\n",
    "        mfcc_6_1 = sound['analysis']['lowlevel']['mfcc']['dmean'][6]\n",
    "        mfcc_7 = sound['analysis']['lowlevel']['mfcc']['mean'][7]\n",
    "        mfcc_7_1 = sound['analysis']['lowlevel']['mfcc']['dmean'][7]\n",
    "        mfcc_8 = sound['analysis']['lowlevel']['mfcc']['mean'][8]\n",
    "        mfcc_8_1 = sound['analysis']['lowlevel']['mfcc']['dmean'][8]\n",
    "        mfcc_9 = sound['analysis']['lowlevel']['mfcc']['mean'][9]\n",
    "        mfcc_9_1 = sound['analysis']['lowlevel']['mfcc']['dmean'][9]\n",
    "        mfcc_10 = sound['analysis']['lowlevel']['mfcc']['mean'][10]\n",
    "        mfcc_10_1 = sound['analysis']['lowlevel']['mfcc']['dmean'][10]\n",
    "        mfcc_11 = sound['analysis']['lowlevel']['mfcc']['mean'][11]\n",
    "        mfcc_11_1 = sound['analysis']['lowlevel']['mfcc']['dmean'][11]\n",
    "        mfcc_12 = sound['analysis']['lowlevel']['mfcc']['mean'][12]\n",
    "        mfcc_12_1 = sound['analysis']['lowlevel']['mfcc']['dmean'][12]\n",
    "\n",
    "        #feature vector creation\n",
    "        features = np.concatenate([[], features, np.array([mfcc_1])])\n",
    "        features = np.concatenate([[], features, np.array([mfcc_1_1])])\n",
    "        features = np.concatenate([[], features, np.array([mfcc_2])])\n",
    "        features = np.concatenate([[], features, np.array([mfcc_2_1])])\n",
    "        features = np.concatenate([[], features, np.array([mfcc_3])])\n",
    "        features = np.concatenate([[], features, np.array([mfcc_3_1])])\n",
    "        features = np.concatenate([[], features, np.array([mfcc_4])])\n",
    "        features = np.concatenate([[], features, np.array([mfcc_4_1])])\n",
    "        features = np.concatenate([[], features, np.array([mfcc_5])])\n",
    "        features = np.concatenate([[], features, np.array([mfcc_5_1])])\n",
    "        features = np.concatenate([[], features, np.array([mfcc_6])])\n",
    "        features = np.concatenate([[], features, np.array([mfcc_6_1])])\n",
    "        features = np.concatenate([[], features, np.array([mfcc_7])])\n",
    "        features = np.concatenate([[], features, np.array([mfcc_7_1])])\n",
    "        features = np.concatenate([[], features, np.array([mfcc_8])])\n",
    "        features = np.concatenate([[], features, np.array([mfcc_8_1])])\n",
    "        features = np.concatenate([[], features, np.array([mfcc_9])])\n",
    "        features = np.concatenate([[], features, np.array([mfcc_9_1])])\n",
    "        features = np.concatenate([[], features, np.array([mfcc_10])])\n",
    "        features = np.concatenate([[], features, np.array([mfcc_10_1])])\n",
    "        features = np.concatenate([[], features, np.array([mfcc_11])])\n",
    "        features = np.concatenate([[], features, np.array([mfcc_11_1])])\n",
    "        features = np.concatenate([[], features, np.array([mfcc_12])])\n",
    "        features = np.concatenate([[], features, np.array([mfcc_12_1])])\n",
    "    else:\n",
    "        print(str(sound['id']) + \": has no analysis\")\n",
    "        #this is wrong but should never happen because we clean the dataset(only for debug)\n",
    "        features = [0, 0, 0, 0, 0, 0, 0, 0, 0, 0, 0, 0]\n",
    "    return features"
   ]
  },
  {
   "cell_type": "code",
   "execution_count": 10,
   "metadata": {},
   "outputs": [],
   "source": [
    "# Prepare data for fitting classifier (as sklearn classifiers require)\n",
    "y_test = list()\n",
    "X_test = list()\n",
    "for class_name, sounds in test_cleaned.items():\n",
    "    for count, sound in enumerate(sounds):\n",
    "        # Use index of class name in class_names as numerical value (classifier internally represents\n",
    "        # class label as number)\n",
    "        y_test.append(class_names.index(class_name))\n",
    "        feature_vector = build_feature_vector(sound)\n",
    "        X_test.append(np.array(feature_vector))\n",
    "        \n",
    "# Prepare data for fitting classifier (as sklearn classifiers require)\n",
    "y_train = list()\n",
    "X_train = list()\n",
    "for class_name, sounds in train_cleaned.items():\n",
    "    for count, sound in enumerate(sounds):\n",
    "        # Use index of class name in class_names as numerical value (classifier internally represents\n",
    "        # class label as number)\n",
    "        y_train.append(class_names.index(class_name))\n",
    "        feature_vector = build_feature_vector(sound)\n",
    "        X_train.append(np.array(feature_vector))"
   ]
  },
  {
   "cell_type": "code",
   "execution_count": 11,
   "metadata": {},
   "outputs": [],
   "source": [
    "#normalize features\n",
    "#X_normalized = normalize(X)\n",
    "\n",
    "#with normalization it performs worse!!"
   ]
  },
  {
   "cell_type": "code",
   "execution_count": 12,
   "metadata": {},
   "outputs": [],
   "source": [
    "#X_train, X_test, y_train, y_test = model_selection.train_test_split(X, y, test_size=0.3)"
   ]
  },
  {
   "cell_type": "code",
   "execution_count": 13,
   "metadata": {},
   "outputs": [],
   "source": [
    "#svc_param_selection(X, y, 10)"
   ]
  },
  {
   "cell_type": "code",
   "execution_count": 14,
   "metadata": {},
   "outputs": [
    {
     "data": {
      "text/plain": [
       "SVC(C=10, cache_size=200, class_weight=None, coef0=0.0,\n",
       "  decision_function_shape=None, degree=3, gamma=0.001, kernel='rbf',\n",
       "  max_iter=-1, probability=False, random_state=None, shrinking=True,\n",
       "  tol=0.001, verbose=False)"
      ]
     },
     "execution_count": 14,
     "metadata": {},
     "output_type": "execute_result"
    }
   ],
   "source": [
    "classifier = svm.SVC(C=10, gamma=0.001)\n",
    "classifier.fit(X_train, y_train)"
   ]
  },
  {
   "cell_type": "code",
   "execution_count": 15,
   "metadata": {},
   "outputs": [],
   "source": [
    "y_pred = classifier.predict(X_test)"
   ]
  },
  {
   "cell_type": "code",
   "execution_count": 16,
   "metadata": {},
   "outputs": [
    {
     "name": "stdout",
     "output_type": "stream",
     "text": [
      "0.833333333333\n"
     ]
    }
   ],
   "source": [
    "print(metrics.accuracy_score(y_test, y_pred))"
   ]
  },
  {
   "cell_type": "code",
   "execution_count": 17,
   "metadata": {},
   "outputs": [],
   "source": [
    "# Compute confusion matrix\n",
    "cnf_matrix = metrics.confusion_matrix(y_test, y_pred)\n",
    "np.set_printoptions(precision=2)"
   ]
  },
  {
   "cell_type": "code",
   "execution_count": 18,
   "metadata": {},
   "outputs": [],
   "source": [
    "class_names_short = ['coi', 'cpb', 'dor', 'drw', 'key', 'mrw', 'pck', 'sci', 'tof', 'typ', 'vcc', 'wrt', 'zip']"
   ]
  },
  {
   "cell_type": "code",
   "execution_count": 19,
   "metadata": {},
   "outputs": [
    {
     "name": "stdout",
     "output_type": "stream",
     "text": [
      "Confusion matrix, without normalization\n",
      "[[32  0  2  0  6  0  1  0  0  1  1  3  0]\n",
      " [ 1 22  0  2  0  0  0  0  0  1  0  0  1]\n",
      " [ 2  3 16  7  0  2  3  1  1  1  0  2  1]\n",
      " [ 0  1  1 43  2  0  0  0  0  0  0  0  0]\n",
      " [ 1  0  0  0 51  0  0  0  0  0  0  0  0]\n",
      " [ 0  1  0  1  0 32  0  0  1  0  0  0  1]\n",
      " [ 0  0  0  2  0  0 30  1  0  0  0  2  0]\n",
      " [ 0  0  0  1  1  0  2 47  0  0  0  1  0]\n",
      " [ 2  1  3  1  1  0  2  0 53  0  1  0  2]\n",
      " [ 0  0  0  0  0  0  2  0  0 57  0  1  1]\n",
      " [ 0  0  0  0  0  0  0  0  0  0 43  0  1]\n",
      " [ 1  0  2  2  0  0  2  3  1  6  0 53  0]\n",
      " [ 1  0  1  3  0  0  0  1  1  0  1  0 41]]\n"
     ]
    },
    {
     "data": {
      "image/png": "[encoded data removed]",
      "text/plain": [
       "<Figure size 432x288 with 2 Axes>"
      ]
     },
     "metadata": {},
     "output_type": "display_data"
    }
   ],
   "source": [
    "# Plot non-normalized confusion matrix\n",
    "plt.figure()\n",
    "plot_confusion_matrix(cnf_matrix, classes=class_names_short,\n",
    "                      title='Confusion matrix, without normalization')"
   ]
  },
  {
   "cell_type": "code",
   "execution_count": 20,
   "metadata": {},
   "outputs": [],
   "source": [
    "#report = metrics.classification_report(y_test, y_pred, target_names=class_names_short)\n",
    "report = metrics.classification_report(y_test, y_pred)"
   ]
  },
  {
   "cell_type": "code",
   "execution_count": 21,
   "metadata": {},
   "outputs": [
    {
     "data": {
      "text/plain": [
       "'             precision    recall  f1-score   support\\n\\n          0       0.80      0.70      0.74        46\\n          1       0.79      0.81      0.80        27\\n          2       0.64      0.41      0.50        39\\n          3       0.69      0.91      0.79        47\\n          4       0.84      0.98      0.90        52\\n          5       0.94      0.89      0.91        36\\n          6       0.71      0.86      0.78        35\\n          7       0.89      0.90      0.90        52\\n          8       0.93      0.80      0.86        66\\n          9       0.86      0.93      0.90        61\\n         10       0.93      0.98      0.96        44\\n         11       0.85      0.76      0.80        70\\n         12       0.85      0.84      0.85        49\\n\\navg / total       0.83      0.83      0.83       624\\n'"
      ]
     },
     "execution_count": 21,
     "metadata": {},
     "output_type": "execute_result"
    }
   ],
   "source": [
    "report"
   ]
  },
  {
   "cell_type": "code",
   "execution_count": 22,
   "metadata": {},
   "outputs": [],
   "source": [
    "def classification_report_csv(report):\n",
    "    report_data = []\n",
    "    lines = report.split('\\n')\n",
    "    for line in lines[2:-3]:\n",
    "        row = {}\n",
    "        row_data = line.split('      ')\n",
    "        row['class'] = row_data[0]\n",
    "        row['precision'] = float(row_data[1])\n",
    "        row['recall'] = float(row_data[2])\n",
    "        row['f1_score'] = float(row_data[3])\n",
    "        row['support'] = float(row_data[4])\n",
    "        report_data.append(row)\n",
    "    dataframe = pd.DataFrame.from_dict(report_data)\n",
    "    dataframe.to_csv('classification_report_LQ.csv', index = False)\n",
    "\n",
    "classification_report_csv(report)"
   ]
  }
 ],
 "metadata": {
  "kernelspec": {
   "display_name": "Python 3",
   "language": "python",
   "name": "python3"
  },
  "language_info": {
   "codemirror_mode": {
    "name": "ipython",
    "version": 3
   },
   "file_extension": ".py",
   "mimetype": "text/x-python",
   "name": "python",
   "nbconvert_exporter": "python",
   "pygments_lexer": "ipython3",
   "version": "3.6.5"
  }
 },
 "nbformat": 4,
 "nbformat_minor": 2
}
