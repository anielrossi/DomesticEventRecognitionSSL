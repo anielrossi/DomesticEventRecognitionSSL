{
 "cells": [
  {
   "cell_type": "markdown",
   "metadata": {},
   "source": [
    "not yet implemented"
   ]
  },
  {
   "cell_type": "code",
   "execution_count": 1,
   "metadata": {},
   "outputs": [],
   "source": [
    "from sklearn import svm, model_selection\n",
    "from sklearn import metrics\n",
    "from sklearn.preprocessing import normalize\n",
    "import json\n",
    "import itertools\n",
    "import utils\n",
    "import pandas as pd\n",
    "import numpy as np\n",
    "import matplotlib.pyplot as plt"
   ]
  },
  {
   "cell_type": "code",
   "execution_count": 2,
   "metadata": {},
   "outputs": [],
   "source": [
    "def svc_param_selection(X, y, nfolds):\n",
    "    Cs = [0.001, 0.01, 0.1, 1, 10]\n",
    "    gammas = [0.001, 0.01, 0.1, 1]\n",
    "    param_grid = {'C': Cs, 'gamma' : gammas}\n",
    "    grid_search = model_selection.GridSearchCV(svm.SVC(kernel='rbf'), param_grid, cv=nfolds)\n",
    "    grid_search.fit(X, y)\n",
    "    grid_search.best_params_\n",
    "    return grid_search.best_params_"
   ]
  },
  {
   "cell_type": "code",
   "execution_count": 3,
   "metadata": {},
   "outputs": [],
   "source": [
    "def plot_confusion_matrix(cm, classes,\n",
    "                          normalize=False,\n",
    "                          title='Confusion matrix',\n",
    "                          cmap=plt.cm.Blues):\n",
    "    \"\"\"\n",
    "    This function prints and plots the confusion matrix.\n",
    "    Normalization can be applied by setting `normalize=True`.\n",
    "    \"\"\"\n",
    "    if normalize:\n",
    "        cm = cm.astype('float') / cm.sum(axis=1)[:, np.newaxis]\n",
    "        print(\"Normalized confusion matrix\")\n",
    "    else:\n",
    "        print('Confusion matrix, without normalization')\n",
    "\n",
    "    print(cm)\n",
    "\n",
    "    plt.imshow(cm, interpolation='nearest', cmap=cmap)\n",
    "    plt.title(title)\n",
    "    plt.colorbar()\n",
    "    tick_marks = np.arange(len(classes))\n",
    "    plt.xticks(tick_marks, classes, rotation=45)\n",
    "    plt.yticks(tick_marks, classes)\n",
    "\n",
    "    fmt = '.2f' if normalize else 'd'\n",
    "    thresh = cm.max() / 2.\n",
    "    for i, j in itertools.product(range(cm.shape[0]), range(cm.shape[1])):\n",
    "        plt.text(j, i, format(cm[i, j], fmt),\n",
    "                 horizontalalignment=\"center\",\n",
    "                 color=\"white\" if cm[i, j] > thresh else \"black\")\n",
    "\n",
    "    plt.tight_layout()\n",
    "    plt.ylabel('True label')\n",
    "    plt.xlabel('Predicted label')"
   ]
  },
  {
   "cell_type": "code",
   "execution_count": 4,
   "metadata": {},
   "outputs": [
    {
     "name": "stdout",
     "output_type": "stream",
     "text": [
      "Loaded dataset with 13 classes:\n",
      "\tCoin (dropping): 127 sounds\n",
      "\tCupboard open or close: 104 sounds\n",
      "\tDoor: 155 sounds\n",
      "\tDrawer open or close: 117 sounds\n",
      "\tKeys jangling: 122 sounds\n",
      "\tMicrowave oven: 98 sounds\n",
      "\tPacking tape, duct tape: 95 sounds\n",
      "\tScissors: 126 sounds\n",
      "\tToilet flush: 156 sounds\n",
      "\tTyping: 153 sounds\n",
      "\tVacuum cleaner: 102 sounds\n",
      "\tWriting: 147 sounds\n",
      "\tZipper (clothing): 132 sounds\n"
     ]
    }
   ],
   "source": [
    "DATASET_NAME = 'baseline_candidates'\n",
    "true_dataset = utils.load_from_json('%s.json' % DATASET_NAME)\n",
    "print('Loaded dataset with %i classes:' % len(true_dataset))\n",
    "for klass, sounds in true_dataset.items():\n",
    "    print('\\t%s: %i sounds' % (klass, len(sounds)))\n",
    "class_names = list(true_dataset.keys())"
   ]
  },
  {
   "cell_type": "code",
   "execution_count": 5,
   "metadata": {},
   "outputs": [
    {
     "data": {
      "text/plain": [
       "['Coin (dropping)',\n",
       " 'Cupboard open or close',\n",
       " 'Door',\n",
       " 'Drawer open or close',\n",
       " 'Keys jangling',\n",
       " 'Microwave oven',\n",
       " 'Packing tape, duct tape',\n",
       " 'Scissors',\n",
       " 'Toilet flush',\n",
       " 'Typing',\n",
       " 'Vacuum cleaner',\n",
       " 'Writing',\n",
       " 'Zipper (clothing)']"
      ]
     },
     "execution_count": 5,
     "metadata": {},
     "output_type": "execute_result"
    }
   ],
   "source": [
    "class_names"
   ]
  },
  {
   "cell_type": "code",
   "execution_count": 6,
   "metadata": {},
   "outputs": [],
   "source": [
    "# CODE TO CLEAN DATASET (remove sounds which do not have analysis information)\n",
    "dataset_cleaned = {}\n",
    "for key, sounds in true_dataset.items():\n",
    "    if key not in dataset_cleaned:\n",
    "        dataset_cleaned[key] = []\n",
    "    for sound in sounds:\n",
    "        if sound['analysis'] is not None:\n",
    "            dataset_cleaned[key].append(sound)"
   ]
  },
  {
   "cell_type": "code",
   "execution_count": 7,
   "metadata": {},
   "outputs": [],
   "source": [
    "def build_feature_vector(sound):\n",
    "    features = []\n",
    "    #add control if they have it or not\n",
    "    if (sound['analysis']):\n",
    "        mfcc_1 = sound['analysis']['lowlevel']['mfcc']['mean'][1]\n",
    "        mfcc_1_1 = sound['analysis']['lowlevel']['mfcc']['dmean'][1]\n",
    "        mfcc_2 = sound['analysis']['lowlevel']['mfcc']['mean'][2]\n",
    "        mfcc_2_1 = sound['analysis']['lowlevel']['mfcc']['dmean'][2]\n",
    "        mfcc_3 = sound['analysis']['lowlevel']['mfcc']['mean'][3]\n",
    "        mfcc_3_1 = sound['analysis']['lowlevel']['mfcc']['dmean'][3]\n",
    "        mfcc_4 = sound['analysis']['lowlevel']['mfcc']['mean'][4]\n",
    "        mfcc_4_1 = sound['analysis']['lowlevel']['mfcc']['dmean'][4]\n",
    "        mfcc_5 = sound['analysis']['lowlevel']['mfcc']['mean'][5]\n",
    "        mfcc_5_1 = sound['analysis']['lowlevel']['mfcc']['dmean'][5]\n",
    "        mfcc_6 = sound['analysis']['lowlevel']['mfcc']['mean'][6]\n",
    "        mfcc_6_1 = sound['analysis']['lowlevel']['mfcc']['dmean'][6]\n",
    "        mfcc_7 = sound['analysis']['lowlevel']['mfcc']['mean'][7]\n",
    "        mfcc_7_1 = sound['analysis']['lowlevel']['mfcc']['dmean'][7]\n",
    "        mfcc_8 = sound['analysis']['lowlevel']['mfcc']['mean'][8]\n",
    "        mfcc_8_1 = sound['analysis']['lowlevel']['mfcc']['dmean'][8]\n",
    "        mfcc_9 = sound['analysis']['lowlevel']['mfcc']['mean'][9]\n",
    "        mfcc_9_1 = sound['analysis']['lowlevel']['mfcc']['dmean'][9]\n",
    "        mfcc_10 = sound['analysis']['lowlevel']['mfcc']['mean'][10]\n",
    "        mfcc_10_1 = sound['analysis']['lowlevel']['mfcc']['dmean'][10]\n",
    "        mfcc_11 = sound['analysis']['lowlevel']['mfcc']['mean'][11]\n",
    "        mfcc_11_1 = sound['analysis']['lowlevel']['mfcc']['dmean'][11]\n",
    "        mfcc_12 = sound['analysis']['lowlevel']['mfcc']['mean'][12]\n",
    "        mfcc_12_1 = sound['analysis']['lowlevel']['mfcc']['dmean'][12]\n",
    "\n",
    "        #feature vector creation\n",
    "        features = np.concatenate([[], features, np.array([mfcc_1])])\n",
    "        features = np.concatenate([[], features, np.array([mfcc_1_1])])\n",
    "        features = np.concatenate([[], features, np.array([mfcc_2])])\n",
    "        features = np.concatenate([[], features, np.array([mfcc_2_1])])\n",
    "        features = np.concatenate([[], features, np.array([mfcc_3])])\n",
    "        features = np.concatenate([[], features, np.array([mfcc_3_1])])\n",
    "        features = np.concatenate([[], features, np.array([mfcc_4])])\n",
    "        features = np.concatenate([[], features, np.array([mfcc_4_1])])\n",
    "        features = np.concatenate([[], features, np.array([mfcc_5])])\n",
    "        features = np.concatenate([[], features, np.array([mfcc_5_1])])\n",
    "        features = np.concatenate([[], features, np.array([mfcc_6])])\n",
    "        features = np.concatenate([[], features, np.array([mfcc_6_1])])\n",
    "        features = np.concatenate([[], features, np.array([mfcc_7])])\n",
    "        features = np.concatenate([[], features, np.array([mfcc_7_1])])\n",
    "        features = np.concatenate([[], features, np.array([mfcc_8])])\n",
    "        features = np.concatenate([[], features, np.array([mfcc_8_1])])\n",
    "        features = np.concatenate([[], features, np.array([mfcc_9])])\n",
    "        features = np.concatenate([[], features, np.array([mfcc_9_1])])\n",
    "        features = np.concatenate([[], features, np.array([mfcc_10])])\n",
    "        features = np.concatenate([[], features, np.array([mfcc_10_1])])\n",
    "        features = np.concatenate([[], features, np.array([mfcc_11])])\n",
    "        features = np.concatenate([[], features, np.array([mfcc_11_1])])\n",
    "        features = np.concatenate([[], features, np.array([mfcc_12])])\n",
    "        features = np.concatenate([[], features, np.array([mfcc_12_1])])\n",
    "    else:\n",
    "        print(str(sound['id']) + \": has no analysis\")\n",
    "        #this is wrong but should never happen because we clean the dataset(only for debug)\n",
    "        features = [0, 0, 0, 0, 0, 0, 0, 0, 0, 0, 0, 0]\n",
    "    return features"
   ]
  },
  {
   "cell_type": "code",
   "execution_count": 8,
   "metadata": {},
   "outputs": [],
   "source": [
    "# Prepare data for fitting classifier (as sklearn classifiers require)\n",
    "y = list()\n",
    "X = list()\n",
    "for class_name, sounds in dataset_cleaned.items():\n",
    "    for count, sound in enumerate(sounds):\n",
    "        # Use index of class name in class_names as numerical value (classifier internally represents\n",
    "        # class label as number)\n",
    "        y.append(class_names.index(class_name))\n",
    "        feature_vector = build_feature_vector(sound)\n",
    "        X.append(np.array(feature_vector))"
   ]
  },
  {
   "cell_type": "code",
   "execution_count": 9,
   "metadata": {},
   "outputs": [],
   "source": [
    "#normalize features\n",
    "X_normalized = normalize(X)\n",
    "\n",
    "#with normalization it performs worse!!"
   ]
  },
  {
   "cell_type": "code",
   "execution_count": 10,
   "metadata": {},
   "outputs": [],
   "source": [
    "X_train, X_test, y_train, y_test = model_selection.train_test_split(X, y, test_size=0.3)"
   ]
  },
  {
   "cell_type": "code",
   "execution_count": 11,
   "metadata": {},
   "outputs": [],
   "source": [
    "#svc_param_selection(X, y, 10)"
   ]
  },
  {
   "cell_type": "code",
   "execution_count": 12,
   "metadata": {},
   "outputs": [
    {
     "data": {
      "text/plain": [
       "SVC(C=10, cache_size=200, class_weight=None, coef0=0.0,\n",
       "  decision_function_shape=None, degree=3, gamma=0.001, kernel='rbf',\n",
       "  max_iter=-1, probability=False, random_state=None, shrinking=True,\n",
       "  tol=0.001, verbose=False)"
      ]
     },
     "execution_count": 12,
     "metadata": {},
     "output_type": "execute_result"
    }
   ],
   "source": [
    "classifier = svm.SVC(C=10, gamma=0.001)\n",
    "classifier.fit(X_train, y_train)"
   ]
  },
  {
   "cell_type": "code",
   "execution_count": 13,
   "metadata": {},
   "outputs": [],
   "source": [
    "y_pred = classifier.predict(X_test)"
   ]
  },
  {
   "cell_type": "code",
   "execution_count": 14,
   "metadata": {},
   "outputs": [
    {
     "name": "stdout",
     "output_type": "stream",
     "text": [
      "0.429230769231\n"
     ]
    }
   ],
   "source": [
    "print(metrics.accuracy_score(y_test, y_pred))"
   ]
  },
  {
   "cell_type": "code",
   "execution_count": 15,
   "metadata": {},
   "outputs": [],
   "source": [
    "# Compute confusion matrix\n",
    "cnf_matrix = metrics.confusion_matrix(y_test, y_pred)\n",
    "np.set_printoptions(precision=2)"
   ]
  },
  {
   "cell_type": "code",
   "execution_count": 16,
   "metadata": {},
   "outputs": [],
   "source": [
    "class_names_short = ['coi', 'cpb', 'dor', 'drw', 'key', 'mrw', 'pck', 'sci', 'tof', 'typ', 'vcc', 'wrt', 'zip']"
   ]
  },
  {
   "cell_type": "code",
   "execution_count": 17,
   "metadata": {},
   "outputs": [
    {
     "name": "stdout",
     "output_type": "stream",
     "text": [
      "Confusion matrix, without normalization\n",
      "[[34  1  2  0  6  0  1  1  1  2  1  2  1]\n",
      " [ 2 16  8  6  0  0  0  0  2  3  0  0  2]\n",
      " [ 5 20 11 12  0  4  2  1  2  4  2  1  4]\n",
      " [ 0  2  6 28  0  1  2  0  1  0  0  2  2]\n",
      " [ 7  0  0  0 25  0  2 10  0  5  0  0  0]\n",
      " [ 6  1 10  5  0 13  2  0  1  1  0  1  2]\n",
      " [ 3  1  0  2  6  0 13  6  1  1  1  3  1]\n",
      " [ 7  1  4  1  8  0 13 15  4  2  0  4  0]\n",
      " [ 4  0  7  3  1  1  0  0 31  0  4  0  3]\n",
      " [ 8  4  6  1  4  0  8  0  1 21  0  7  4]\n",
      " [ 3  1  2  0  0  0  0  0  5  0 31  0  1]\n",
      " [ 4  1  3  1  2  0  3  1  3  4  0 27  0]\n",
      " [ 2  2  7  7  0  3  1  1  5  4  1  2 14]]\n"
     ]
    },
    {
     "data": {
      "image/png": "[encoded data removed]",
      "text/plain": [
       "<Figure size 432x288 with 2 Axes>"
      ]
     },
     "metadata": {},
     "output_type": "display_data"
    }
   ],
   "source": [
    "# Plot non-normalized confusion matrix\n",
    "plt.figure()\n",
    "plot_confusion_matrix(cnf_matrix, classes=class_names_short,\n",
    "                      title='Confusion matrix, without normalization')"
   ]
  },
  {
   "cell_type": "code",
   "execution_count": 18,
   "metadata": {},
   "outputs": [],
   "source": [
    "#report = metrics.classification_report(y_test, y_pred, target_names=class_names_short)\n",
    "report = metrics.classification_report(y_test, y_pred)"
   ]
  },
  {
   "cell_type": "code",
   "execution_count": 19,
   "metadata": {},
   "outputs": [
    {
     "data": {
      "text/plain": [
       "'             precision    recall  f1-score   support\\n\\n          0       0.40      0.65      0.50        52\\n          1       0.32      0.41      0.36        39\\n          2       0.17      0.16      0.16        68\\n          3       0.42      0.64      0.51        44\\n          4       0.48      0.51      0.50        49\\n          5       0.59      0.31      0.41        42\\n          6       0.28      0.34      0.31        38\\n          7       0.43      0.25      0.32        59\\n          8       0.54      0.57      0.56        54\\n          9       0.45      0.33      0.38        64\\n         10       0.78      0.72      0.75        43\\n         11       0.55      0.55      0.55        49\\n         12       0.41      0.29      0.34        49\\n\\navg / total       0.44      0.43      0.42       650\\n'"
      ]
     },
     "execution_count": 19,
     "metadata": {},
     "output_type": "execute_result"
    }
   ],
   "source": [
    "report"
   ]
  },
  {
   "cell_type": "code",
   "execution_count": 20,
   "metadata": {},
   "outputs": [],
   "source": [
    "def classification_report_csv(report):\n",
    "    report_data = []\n",
    "    lines = report.split('\\n')\n",
    "    for line in lines[2:-3]:\n",
    "        row = {}\n",
    "        row_data = line.split('      ')\n",
    "        row['class'] = row_data[0]\n",
    "        row['precision'] = float(row_data[1])\n",
    "        row['recall'] = float(row_data[2])\n",
    "        row['f1_score'] = float(row_data[3])\n",
    "        row['support'] = float(row_data[4])\n",
    "        report_data.append(row)\n",
    "    dataframe = pd.DataFrame.from_dict(report_data)\n",
    "    dataframe.to_csv('classification_report.csv', index = False)\n",
    "\n",
    "classification_report_csv(report)"
   ]
  },
  {
   "cell_type": "code",
   "execution_count": null,
   "metadata": {},
   "outputs": [],
   "source": []
  }
 ],
 "metadata": {
  "kernelspec": {
   "display_name": "Python 3",
   "language": "python",
   "name": "python3"
  },
  "language_info": {
   "codemirror_mode": {
    "name": "ipython",
    "version": 3
   },
   "file_extension": ".py",
   "mimetype": "text/x-python",
   "name": "python",
   "nbconvert_exporter": "python",
   "pygments_lexer": "ipython3",
   "version": "3.6.5"
  }
 },
 "nbformat": 4,
 "nbformat_minor": 2
}
