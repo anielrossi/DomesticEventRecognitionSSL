{
 "cells": [
  {
   "cell_type": "code",
   "execution_count": 1,
   "metadata": {},
   "outputs": [],
   "source": [
    "from sklearn import svm, model_selection\n",
    "from sklearn import metrics\n",
    "from sklearn.preprocessing import normalize\n",
    "import json\n",
    "import itertools\n",
    "import utils\n",
    "import pandas as pd\n",
    "import numpy as np\n",
    "import matplotlib.pyplot as plt\n",
    "import warnings\n",
    "warnings.filterwarnings('ignore')"
   ]
  },
  {
   "cell_type": "code",
   "execution_count": 2,
   "metadata": {},
   "outputs": [],
   "source": [
    "def svc_param_selection(X, y, nfolds):\n",
    "    Cs = [0.001, 0.01, 0.1, 1, 10]\n",
    "    gammas = [0.001, 0.01, 0.1, 1]\n",
    "    param_grid = {'C': Cs, 'gamma' : gammas}\n",
    "    grid_search = model_selection.GridSearchCV(svm.SVC(kernel='rbf'), param_grid, cv=nfolds)\n",
    "    grid_search.fit(X, y)\n",
    "    grid_search.best_params_\n",
    "    return grid_search.best_params_"
   ]
  },
  {
   "cell_type": "code",
   "execution_count": 3,
   "metadata": {},
   "outputs": [],
   "source": [
    "def plot_confusion_matrix(cm, classes,\n",
    "                          normalize=False,\n",
    "                          title='Confusion matrix',\n",
    "                          cmap=plt.cm.Blues):\n",
    "    \"\"\"\n",
    "    This function prints and plots the confusion matrix.\n",
    "    Normalization can be applied by setting `normalize=True`.\n",
    "    \"\"\"\n",
    "    if normalize:\n",
    "        cm = cm.astype('float') / cm.sum(axis=1)[:, np.newaxis]\n",
    "        print(\"Normalized confusion matrix\")\n",
    "    else:\n",
    "        print('Confusion matrix, without normalization')\n",
    "\n",
    "    print(cm)\n",
    "\n",
    "    plt.imshow(cm, interpolation='nearest', cmap=cmap)\n",
    "    plt.title(title)\n",
    "    plt.colorbar()\n",
    "    tick_marks = np.arange(len(classes))\n",
    "    plt.xticks(tick_marks, classes, rotation=45)\n",
    "    plt.yticks(tick_marks, classes)\n",
    "\n",
    "    fmt = '.2f' if normalize else 'd'\n",
    "    thresh = cm.max() / 2.\n",
    "    for i, j in itertools.product(range(cm.shape[0]), range(cm.shape[1])):\n",
    "        plt.text(j, i, format(cm[i, j], fmt),\n",
    "                 horizontalalignment=\"center\",\n",
    "                 color=\"white\" if cm[i, j] > thresh else \"black\")\n",
    "\n",
    "    plt.tight_layout()\n",
    "    plt.ylabel('True label')\n",
    "    plt.xlabel('Predicted label')"
   ]
  },
  {
   "cell_type": "code",
   "execution_count": 4,
   "metadata": {},
   "outputs": [
    {
     "name": "stdout",
     "output_type": "stream",
     "text": [
      "Loaded test dataset with 13 classes:\n",
      "\tCoin (dropping): 46 sounds\n",
      "\tCupboard open or close: 27 sounds\n",
      "\tDoor: 40 sounds\n",
      "\tDrawer open or close: 49 sounds\n",
      "\tKeys jangling: 52 sounds\n",
      "\tMicrowave oven: 36 sounds\n",
      "\tPacking tape, duct tape: 35 sounds\n",
      "\tScissors: 52 sounds\n",
      "\tToilet flush: 66 sounds\n",
      "\tTyping: 64 sounds\n",
      "\tVacuum cleaner: 44 sounds\n",
      "\tWriting: 71 sounds\n",
      "\tZipper (clothing): 49 sounds\n",
      "Loaded train dataset with 13 classes:\n",
      "\tCoin (dropping): 80 sounds\n",
      "\tCupboard open or close: 64 sounds\n",
      "\tDoor: 101 sounds\n",
      "\tDrawer open or close: 67 sounds\n",
      "\tKeys jangling: 70 sounds\n",
      "\tMicrowave oven: 62 sounds\n",
      "\tPacking tape, duct tape: 60 sounds\n",
      "\tScissors: 74 sounds\n",
      "\tToilet flush: 90 sounds\n",
      "\tTyping: 89 sounds\n",
      "\tVacuum cleaner: 58 sounds\n",
      "\tWriting: 76 sounds\n",
      "\tZipper (clothing): 83 sounds\n",
      "Loaded candidates_limited with 13 classes:\n",
      "\tCoin (dropping): 300 sounds\n",
      "\tCupboard open or close: 247 sounds\n",
      "\tDoor: 300 sounds\n",
      "\tDrawer open or close: 258 sounds\n",
      "\tKeys jangling: 300 sounds\n",
      "\tMicrowave oven: 285 sounds\n",
      "\tPacking tape, duct tape: 150 sounds\n",
      "\tScissors: 200 sounds\n",
      "\tToilet flush: 300 sounds\n",
      "\tTyping: 266 sounds\n",
      "\tVacuum cleaner: 188 sounds\n",
      "\tWriting: 300 sounds\n",
      "\tZipper (clothing): 300 sounds\n",
      "Loaded candidates with 13 classes:\n",
      "\tCoin (dropping): 1157 sounds\n",
      "\tCupboard open or close: 247 sounds\n",
      "\tDoor: 1691 sounds\n",
      "\tDrawer open or close: 258 sounds\n",
      "\tKeys jangling: 325 sounds\n",
      "\tMicrowave oven: 285 sounds\n",
      "\tPacking tape, duct tape: 150 sounds\n",
      "\tScissors: 200 sounds\n",
      "\tToilet flush: 482 sounds\n",
      "\tTyping: 266 sounds\n",
      "\tVacuum cleaner: 188 sounds\n",
      "\tWriting: 500 sounds\n",
      "\tZipper (clothing): 499 sounds\n"
     ]
    }
   ],
   "source": [
    "DATASET_NAME = '../../json_final/generated/baseline'\n",
    "test_set = utils.load_from_json('%s_test.json' % DATASET_NAME)\n",
    "train_set = utils.load_from_json('%s_train_hq.json' % DATASET_NAME)\n",
    "candidates_limited = utils.load_from_json('%s_candidates_limited.json' % DATASET_NAME)\n",
    "candidates = utils.load_from_json('%s_candidates.json' % DATASET_NAME)\n",
    "\n",
    "print('Loaded test dataset with %i classes:' % len(test_set))\n",
    "for klass, sounds in test_set.items():\n",
    "    print('\\t%s: %i sounds' % (klass, len(sounds)))\n",
    "print('Loaded train dataset with %i classes:' % len(train_set))\n",
    "for klass, sounds in train_set.items():\n",
    "    print('\\t%s: %i sounds' % (klass, len(sounds)))\n",
    "print('Loaded candidates_limited with %i classes:' % len(candidates_limited))\n",
    "for klass, sounds in candidates_limited.items():\n",
    "    print('\\t%s: %i sounds' % (klass, len(sounds)))\n",
    "print('Loaded candidates with %i classes:' % len(candidates))\n",
    "for klass, sounds in candidates.items():\n",
    "    print('\\t%s: %i sounds' % (klass, len(sounds)))\n",
    "class_names = list(candidates.keys())"
   ]
  },
  {
   "cell_type": "code",
   "execution_count": 5,
   "metadata": {},
   "outputs": [],
   "source": [
    "#for key in candidates.keys():\n",
    "#    for i in range(len(candidates[key])):\n",
    "#        train_set[key].append(candidates[key][i])"
   ]
  },
  {
   "cell_type": "code",
   "execution_count": 6,
   "metadata": {},
   "outputs": [
    {
     "data": {
      "text/plain": [
       "['Coin (dropping)',\n",
       " 'Cupboard open or close',\n",
       " 'Door',\n",
       " 'Drawer open or close',\n",
       " 'Keys jangling',\n",
       " 'Microwave oven',\n",
       " 'Packing tape, duct tape',\n",
       " 'Scissors',\n",
       " 'Toilet flush',\n",
       " 'Typing',\n",
       " 'Vacuum cleaner',\n",
       " 'Writing',\n",
       " 'Zipper (clothing)']"
      ]
     },
     "execution_count": 6,
     "metadata": {},
     "output_type": "execute_result"
    }
   ],
   "source": [
    "class_names"
   ]
  },
  {
   "cell_type": "code",
   "execution_count": 7,
   "metadata": {},
   "outputs": [],
   "source": [
    "# CODE TO CLEAN DATASET (remove sounds which do not have analysis information)\n",
    "test_cleaned = {}\n",
    "for key, sounds in test_set.items():\n",
    "    if key not in test_cleaned:\n",
    "        test_cleaned[key] = []\n",
    "    for sound in sounds:\n",
    "        if sound['analysis'] is not None:\n",
    "            test_cleaned[key].append(sound)\n",
    "train_cleaned = {}\n",
    "for key, sounds in train_set.items():\n",
    "    if key not in train_cleaned:\n",
    "        train_cleaned[key] = []\n",
    "    for sound in sounds:\n",
    "        if sound['analysis'] is not None:\n",
    "            train_cleaned[key].append(sound)\n",
    "candidates_cleaned = {}\n",
    "for key, sounds in candidates.items():\n",
    "    if key not in candidates_cleaned:\n",
    "        candidates_cleaned[key] = []\n",
    "    for sound in sounds:\n",
    "        if sound['analysis'] is not None:\n",
    "            candidates_cleaned[key].append(sound)"
   ]
  },
  {
   "cell_type": "code",
   "execution_count": 8,
   "metadata": {},
   "outputs": [],
   "source": [
    "def build_feature_vector(sound):\n",
    "    features = []\n",
    "    #add control if they have it or not\n",
    "    if (sound['analysis']):\n",
    "        mfcc_1 = sound['analysis']['lowlevel']['mfcc']['mean'][1]\n",
    "        mfcc_1_1 = sound['analysis']['lowlevel']['mfcc']['dmean'][1]\n",
    "        mfcc_2 = sound['analysis']['lowlevel']['mfcc']['mean'][2]\n",
    "        mfcc_2_1 = sound['analysis']['lowlevel']['mfcc']['dmean'][2]\n",
    "        mfcc_3 = sound['analysis']['lowlevel']['mfcc']['mean'][3]\n",
    "        mfcc_3_1 = sound['analysis']['lowlevel']['mfcc']['dmean'][3]\n",
    "        mfcc_4 = sound['analysis']['lowlevel']['mfcc']['mean'][4]\n",
    "        mfcc_4_1 = sound['analysis']['lowlevel']['mfcc']['dmean'][4]\n",
    "        mfcc_5 = sound['analysis']['lowlevel']['mfcc']['mean'][5]\n",
    "        mfcc_5_1 = sound['analysis']['lowlevel']['mfcc']['dmean'][5]\n",
    "        mfcc_6 = sound['analysis']['lowlevel']['mfcc']['mean'][6]\n",
    "        mfcc_6_1 = sound['analysis']['lowlevel']['mfcc']['dmean'][6]\n",
    "        mfcc_7 = sound['analysis']['lowlevel']['mfcc']['mean'][7]\n",
    "        mfcc_7_1 = sound['analysis']['lowlevel']['mfcc']['dmean'][7]\n",
    "        mfcc_8 = sound['analysis']['lowlevel']['mfcc']['mean'][8]\n",
    "        mfcc_8_1 = sound['analysis']['lowlevel']['mfcc']['dmean'][8]\n",
    "        mfcc_9 = sound['analysis']['lowlevel']['mfcc']['mean'][9]\n",
    "        mfcc_9_1 = sound['analysis']['lowlevel']['mfcc']['dmean'][9]\n",
    "        mfcc_10 = sound['analysis']['lowlevel']['mfcc']['mean'][10]\n",
    "        mfcc_10_1 = sound['analysis']['lowlevel']['mfcc']['dmean'][10]\n",
    "        mfcc_11 = sound['analysis']['lowlevel']['mfcc']['mean'][11]\n",
    "        mfcc_11_1 = sound['analysis']['lowlevel']['mfcc']['dmean'][11]\n",
    "        mfcc_12 = sound['analysis']['lowlevel']['mfcc']['mean'][12]\n",
    "        mfcc_12_1 = sound['analysis']['lowlevel']['mfcc']['dmean'][12]\n",
    "\n",
    "        #feature vector creation\n",
    "        features = np.concatenate([[], features, np.array([mfcc_1])])\n",
    "        features = np.concatenate([[], features, np.array([mfcc_1_1])])\n",
    "        features = np.concatenate([[], features, np.array([mfcc_2])])\n",
    "        features = np.concatenate([[], features, np.array([mfcc_2_1])])\n",
    "        features = np.concatenate([[], features, np.array([mfcc_3])])\n",
    "        features = np.concatenate([[], features, np.array([mfcc_3_1])])\n",
    "        features = np.concatenate([[], features, np.array([mfcc_4])])\n",
    "        features = np.concatenate([[], features, np.array([mfcc_4_1])])\n",
    "        features = np.concatenate([[], features, np.array([mfcc_5])])\n",
    "        features = np.concatenate([[], features, np.array([mfcc_5_1])])\n",
    "        features = np.concatenate([[], features, np.array([mfcc_6])])\n",
    "        features = np.concatenate([[], features, np.array([mfcc_6_1])])\n",
    "        features = np.concatenate([[], features, np.array([mfcc_7])])\n",
    "        features = np.concatenate([[], features, np.array([mfcc_7_1])])\n",
    "        features = np.concatenate([[], features, np.array([mfcc_8])])\n",
    "        features = np.concatenate([[], features, np.array([mfcc_8_1])])\n",
    "        features = np.concatenate([[], features, np.array([mfcc_9])])\n",
    "        features = np.concatenate([[], features, np.array([mfcc_9_1])])\n",
    "        features = np.concatenate([[], features, np.array([mfcc_10])])\n",
    "        features = np.concatenate([[], features, np.array([mfcc_10_1])])\n",
    "        features = np.concatenate([[], features, np.array([mfcc_11])])\n",
    "        features = np.concatenate([[], features, np.array([mfcc_11_1])])\n",
    "        features = np.concatenate([[], features, np.array([mfcc_12])])\n",
    "        features = np.concatenate([[], features, np.array([mfcc_12_1])])\n",
    "    else:\n",
    "        print(str(sound['id']) + \": has no analysis\")\n",
    "        #this is wrong but should never happen because we clean the dataset(only for debug)\n",
    "        features = [0, 0, 0, 0, 0, 0, 0, 0, 0, 0, 0, 0]\n",
    "    return features"
   ]
  },
  {
   "cell_type": "code",
   "execution_count": 9,
   "metadata": {},
   "outputs": [],
   "source": [
    "# Prepare data for fitting classifier (as sklearn classifiers require)\n",
    "y_test = list()\n",
    "X_test = list()\n",
    "for class_name, sounds in test_cleaned.items():\n",
    "    for count, sound in enumerate(sounds):\n",
    "        # Use index of class name in class_names as numerical value (classifier internally represents\n",
    "        # class label as number)\n",
    "        y_test.append(class_names.index(class_name))\n",
    "        feature_vector = build_feature_vector(sound)\n",
    "        X_test.append(np.array(feature_vector))\n",
    "        \n",
    "# Prepare data for fitting classifier (as sklearn classifiers require)\n",
    "y_train = list()\n",
    "X_train = list()\n",
    "for class_name, sounds in train_cleaned.items():\n",
    "    for count, sound in enumerate(sounds):\n",
    "        # Use index of class name in class_names as numerical value (classifier internally represents\n",
    "        # class label as number)\n",
    "        y_train.append(class_names.index(class_name))\n",
    "        feature_vector = build_feature_vector(sound)\n",
    "        X_train.append(np.array(feature_vector))\n",
    "        \n",
    "X_candidates = list()\n",
    "y_candidates = list()\n",
    "names_candidates = list()\n",
    "for class_name, sounds in candidates_cleaned.items():\n",
    "    for count, sound in enumerate(sounds):\n",
    "        # Use index of class name in class_names as numerical value (classifier internally represents\n",
    "        # class label as number)\n",
    "        y_candidates.append(class_names.index(class_name))\n",
    "        feature_vector = build_feature_vector(sound)\n",
    "        X_candidates.append(np.array(feature_vector))\n",
    "        names_candidates.append(str(sound['id']) + '.wav')"
   ]
  },
  {
   "cell_type": "code",
   "execution_count": 10,
   "metadata": {},
   "outputs": [],
   "source": [
    "#normalize features\n",
    "#X_normalized = normalize(X)\n",
    "\n",
    "#with normalization it performs worse!!"
   ]
  },
  {
   "cell_type": "code",
   "execution_count": 11,
   "metadata": {},
   "outputs": [],
   "source": [
    "#X_train, X_test, y_train, y_test = model_selection.train_test_split(X, y, test_size=0.3)"
   ]
  },
  {
   "cell_type": "code",
   "execution_count": 12,
   "metadata": {},
   "outputs": [],
   "source": [
    "#svc_param_selection(X, y, 10)"
   ]
  },
  {
   "cell_type": "code",
   "execution_count": 13,
   "metadata": {},
   "outputs": [
    {
     "data": {
      "text/plain": [
       "SVC(C=10, cache_size=200, class_weight=None, coef0=0.0,\n",
       "  decision_function_shape=None, degree=3, gamma=0.001, kernel='rbf',\n",
       "  max_iter=-1, probability=True, random_state=None, shrinking=True,\n",
       "  tol=0.001, verbose=False)"
      ]
     },
     "execution_count": 13,
     "metadata": {},
     "output_type": "execute_result"
    }
   ],
   "source": [
    "classifier = svm.SVC(C=10, gamma=0.001, probability=True)\n",
    "classifier.fit(X_train, y_train)"
   ]
  },
  {
   "cell_type": "code",
   "execution_count": 14,
   "metadata": {},
   "outputs": [],
   "source": [
    "cand_df = pd.DataFrame(X_candidates)"
   ]
  },
  {
   "cell_type": "code",
   "execution_count": 15,
   "metadata": {},
   "outputs": [],
   "source": [
    "#cand_df"
   ]
  },
  {
   "cell_type": "code",
   "execution_count": 16,
   "metadata": {},
   "outputs": [
    {
     "data": {
      "text/html": [
       "<div>\n",
       "<style scoped>\n",
       "    .dataframe tbody tr th:only-of-type {\n",
       "        vertical-align: middle;\n",
       "    }\n",
       "\n",
       "    .dataframe tbody tr th {\n",
       "        vertical-align: top;\n",
       "    }\n",
       "\n",
       "    .dataframe thead th {\n",
       "        text-align: right;\n",
       "    }\n",
       "</style>\n",
       "<table border=\"1\" class=\"dataframe\">\n",
       "  <thead>\n",
       "    <tr style=\"text-align: right;\">\n",
       "      <th></th>\n",
       "      <th>0</th>\n",
       "      <th>1</th>\n",
       "      <th>2</th>\n",
       "      <th>3</th>\n",
       "      <th>4</th>\n",
       "      <th>5</th>\n",
       "      <th>6</th>\n",
       "      <th>7</th>\n",
       "      <th>8</th>\n",
       "      <th>9</th>\n",
       "      <th>...</th>\n",
       "      <th>14</th>\n",
       "      <th>15</th>\n",
       "      <th>16</th>\n",
       "      <th>17</th>\n",
       "      <th>18</th>\n",
       "      <th>19</th>\n",
       "      <th>20</th>\n",
       "      <th>21</th>\n",
       "      <th>22</th>\n",
       "      <th>23</th>\n",
       "    </tr>\n",
       "  </thead>\n",
       "  <tbody>\n",
       "    <tr>\n",
       "      <th>13</th>\n",
       "      <td>-30.044424</td>\n",
       "      <td>20.820919</td>\n",
       "      <td>46.53217</td>\n",
       "      <td>16.868565</td>\n",
       "      <td>7.180081</td>\n",
       "      <td>11.117304</td>\n",
       "      <td>33.078121</td>\n",
       "      <td>12.058279</td>\n",
       "      <td>6.059188</td>\n",
       "      <td>11.46988</td>\n",
       "      <td>...</td>\n",
       "      <td>0.946339</td>\n",
       "      <td>7.067525</td>\n",
       "      <td>9.783814</td>\n",
       "      <td>7.624341</td>\n",
       "      <td>2.216909</td>\n",
       "      <td>9.070163</td>\n",
       "      <td>7.946582</td>\n",
       "      <td>6.289833</td>\n",
       "      <td>0.885378</td>\n",
       "      <td>8.10292</td>\n",
       "    </tr>\n",
       "  </tbody>\n",
       "</table>\n",
       "<p>1 rows × 24 columns</p>\n",
       "</div>"
      ],
      "text/plain": [
       "           0          1         2          3         4          5          6   \\\n",
       "13 -30.044424  20.820919  46.53217  16.868565  7.180081  11.117304  33.078121   \n",
       "\n",
       "           7         8         9    ...           14        15        16  \\\n",
       "13  12.058279  6.059188  11.46988   ...     0.946339  7.067525  9.783814   \n",
       "\n",
       "          17        18        19        20        21        22       23  \n",
       "13  7.624341  2.216909  9.070163  7.946582  6.289833  0.885378  8.10292  \n",
       "\n",
       "[1 rows x 24 columns]"
      ]
     },
     "execution_count": 16,
     "metadata": {},
     "output_type": "execute_result"
    }
   ],
   "source": [
    "cand_df.iloc[[13]]"
   ]
  },
  {
   "cell_type": "code",
   "execution_count": 17,
   "metadata": {},
   "outputs": [],
   "source": [
    "a = classifier.predict_proba(cand_df.iloc[[0]])\n",
    "for i in range(len(cand_df) - 1):\n",
    "    a = np.vstack((a, classifier.predict_proba(cand_df.iloc[[i+1]])))"
   ]
  },
  {
   "cell_type": "markdown",
   "metadata": {},
   "source": [
    "a is the matrix of probabilities. Now i need to attach the y as last column and sort for each category (I will have a matrix for each category (don't know if it is the most efficient but it's ok for now)) "
   ]
  },
  {
   "cell_type": "code",
   "execution_count": 18,
   "metadata": {},
   "outputs": [],
   "source": [
    "a = np.c_[a, names_candidates]"
   ]
  },
  {
   "cell_type": "code",
   "execution_count": 19,
   "metadata": {},
   "outputs": [],
   "source": [
    "a = np.c_[a, y_candidates]"
   ]
  },
  {
   "cell_type": "code",
   "execution_count": 20,
   "metadata": {},
   "outputs": [
    {
     "data": {
      "text/plain": [
       "(6215, 15)"
      ]
     },
     "execution_count": 20,
     "metadata": {},
     "output_type": "execute_result"
    }
   ],
   "source": [
    "a.shape"
   ]
  },
  {
   "cell_type": "code",
   "execution_count": 21,
   "metadata": {},
   "outputs": [
    {
     "data": {
      "text/plain": [
       "array(['0.5110024919098499', '0.043981989839354724', '0.08294705179593752',\n",
       "       '0.009405032979009416', '0.0744122378441374',\n",
       "       '0.030108685689942905', '0.02750453412798145',\n",
       "       '0.030088990422405416', '0.030192474074729192',\n",
       "       '0.04906737276827632', '0.033272181102652044',\n",
       "       '0.043742139326782455', '0.03427481811894087', '341408.wav', '0'],\n",
       "      dtype='<U32')"
      ]
     },
     "execution_count": 21,
     "metadata": {},
     "output_type": "execute_result"
    }
   ],
   "source": [
    "a[0]"
   ]
  },
  {
   "cell_type": "code",
   "execution_count": 22,
   "metadata": {},
   "outputs": [],
   "source": [
    "columns = ['Coin (dropping)',\n",
    "  'Cupboard open or close',\n",
    "  'Door',\n",
    "  'Drawer open or close',\n",
    "  'Keys jangling',\n",
    "  'Microwave oven',\n",
    "  'Packing tape, duct tape',\n",
    "  'Scissors',\n",
    "  'Toilet flush',\n",
    "  'Typing',\n",
    "  'Vacuum cleaner',\n",
    "  'Writing',\n",
    "  'Zipper (clothing)',\n",
    " 'filename',\n",
    " 'result']"
   ]
  },
  {
   "cell_type": "code",
   "execution_count": 23,
   "metadata": {},
   "outputs": [
    {
     "data": {
      "text/plain": [
       "['Coin (dropping)',\n",
       " 'Cupboard open or close',\n",
       " 'Door',\n",
       " 'Drawer open or close',\n",
       " 'Keys jangling',\n",
       " 'Microwave oven',\n",
       " 'Packing tape, duct tape',\n",
       " 'Scissors',\n",
       " 'Toilet flush',\n",
       " 'Typing',\n",
       " 'Vacuum cleaner',\n",
       " 'Writing',\n",
       " 'Zipper (clothing)',\n",
       " 'filename',\n",
       " 'result']"
      ]
     },
     "execution_count": 23,
     "metadata": {},
     "output_type": "execute_result"
    }
   ],
   "source": [
    "columns"
   ]
  },
  {
   "cell_type": "code",
   "execution_count": 24,
   "metadata": {},
   "outputs": [],
   "source": [
    "a_df = pd.DataFrame(a, columns=columns)"
   ]
  },
  {
   "cell_type": "code",
   "execution_count": 25,
   "metadata": {},
   "outputs": [
    {
     "data": {
      "text/plain": [
       "array(['0.5110024919098499', '0.043981989839354724', '0.08294705179593752',\n",
       "       '0.009405032979009416', '0.0744122378441374',\n",
       "       '0.030108685689942905', '0.02750453412798145',\n",
       "       '0.030088990422405416', '0.030192474074729192',\n",
       "       '0.04906737276827632', '0.033272181102652044',\n",
       "       '0.043742139326782455', '0.03427481811894087', '341408.wav', '0'], dtype=object)"
      ]
     },
     "execution_count": 25,
     "metadata": {},
     "output_type": "execute_result"
    }
   ],
   "source": [
    "a_df.values[0]"
   ]
  },
  {
   "cell_type": "code",
   "execution_count": 26,
   "metadata": {},
   "outputs": [],
   "source": [
    "#result = a_df.sort_values(['Cupboard open or close'], ascending=[False])"
   ]
  },
  {
   "cell_type": "code",
   "execution_count": 27,
   "metadata": {},
   "outputs": [],
   "source": [
    "counter = np.zeros(13)\n",
    "j = 0\n",
    "for k in class_names:\n",
    "    a_df[k] = a_df[k].astype(float).fillna(0.0)\n",
    "    b_df = a_df.loc[a_df[k] > 0.4]\n",
    "    #b_df['result'] = class_names.index(k)\n",
    "    result = b_df.join(cand_df)\n",
    "    result = result[np.arange(24)]\n",
    "    for i in range(len(result)):\n",
    "        X_train.append(result.values[i])\n",
    "        y_train.append(class_names.index(k))\n",
    "        counter[j] = counter[j] + 1\n",
    "    j = j + 1"
   ]
  },
  {
   "cell_type": "code",
   "execution_count": 28,
   "metadata": {},
   "outputs": [
    {
     "data": {
      "text/plain": [
       "array([ 299.,    4.,   25.,  119.,  146.,   61.,   45.,   71.,  278.,\n",
       "        117.,  104.,   45.,   27.])"
      ]
     },
     "execution_count": 28,
     "metadata": {},
     "output_type": "execute_result"
    }
   ],
   "source": [
    "counter"
   ]
  },
  {
   "cell_type": "code",
   "execution_count": 29,
   "metadata": {},
   "outputs": [
    {
     "data": {
      "text/plain": [
       "2311"
      ]
     },
     "execution_count": 29,
     "metadata": {},
     "output_type": "execute_result"
    }
   ],
   "source": [
    "len(X_train)"
   ]
  },
  {
   "cell_type": "code",
   "execution_count": 30,
   "metadata": {},
   "outputs": [],
   "source": [
    "#for k in class_names:\n",
    "#    a_df[k] = a_df[k].astype(float).fillna(0.0)\n",
    "#    b_df = a_df.loc[a_df[k] > 0.4]\n",
    "    #print('class: ' + str(class_names.index(k)))\n",
    "#    b_df['result'] = class_names.index(k)\n",
    "    #cand_df.join(b_df)\n",
    "    #print(cand_df)\n",
    "    #X_train_add = b_df[class_names]\n",
    "    #y_train_add = b_df['result']\n",
    "    #print(y_train_add)\n",
    "    #X_train = X_train + X_train_add\n",
    "    #y_train = y_train + y_train_add"
   ]
  },
  {
   "cell_type": "code",
   "execution_count": 31,
   "metadata": {},
   "outputs": [
    {
     "data": {
      "text/plain": [
       "2311"
      ]
     },
     "execution_count": 31,
     "metadata": {},
     "output_type": "execute_result"
    }
   ],
   "source": [
    "len(y_train)"
   ]
  },
  {
   "cell_type": "markdown",
   "metadata": {},
   "source": [
    "right join tenendo solo questi con tutti i candidates e usando questi valori come 'result' e cioè classe di riferimento"
   ]
  },
  {
   "cell_type": "code",
   "execution_count": 32,
   "metadata": {},
   "outputs": [
    {
     "data": {
      "text/plain": [
       "SVC(C=10, cache_size=200, class_weight=None, coef0=0.0,\n",
       "  decision_function_shape=None, degree=3, gamma=0.001, kernel='rbf',\n",
       "  max_iter=-1, probability=False, random_state=None, shrinking=True,\n",
       "  tol=0.001, verbose=False)"
      ]
     },
     "execution_count": 32,
     "metadata": {},
     "output_type": "execute_result"
    }
   ],
   "source": [
    "classifier = svm.SVC(C=10, gamma=0.001)\n",
    "classifier.fit(X_train, y_train)"
   ]
  },
  {
   "cell_type": "code",
   "execution_count": 33,
   "metadata": {},
   "outputs": [],
   "source": [
    "#a_df"
   ]
  },
  {
   "cell_type": "code",
   "execution_count": 34,
   "metadata": {},
   "outputs": [],
   "source": [
    "y_pred = classifier.predict(X_test)"
   ]
  },
  {
   "cell_type": "code",
   "execution_count": 35,
   "metadata": {},
   "outputs": [
    {
     "name": "stdout",
     "output_type": "stream",
     "text": [
      "0.405448717949\n"
     ]
    }
   ],
   "source": [
    "print(metrics.accuracy_score(y_test, y_pred))"
   ]
  },
  {
   "cell_type": "code",
   "execution_count": 36,
   "metadata": {},
   "outputs": [],
   "source": [
    "# Compute confusion matrix\n",
    "cnf_matrix = metrics.confusion_matrix(y_test, y_pred)\n",
    "np.set_printoptions(precision=2)"
   ]
  },
  {
   "cell_type": "code",
   "execution_count": 37,
   "metadata": {},
   "outputs": [],
   "source": [
    "class_names_short = ['coi', 'cpb', 'dor', 'drw', 'key', 'mrw', 'pck', 'sci', 'tof', 'typ', 'vcc', 'wrt', 'zip']"
   ]
  },
  {
   "cell_type": "code",
   "execution_count": 38,
   "metadata": {},
   "outputs": [
    {
     "name": "stdout",
     "output_type": "stream",
     "text": [
      "Confusion matrix, without normalization\n",
      "[[28  0  4  0  4  0  2  1  3  1  0  1  2]\n",
      " [ 2  7  8  2  0  2  0  0  2  1  0  1  2]\n",
      " [ 3  4  9 10  0  5  1  1  2  2  0  1  1]\n",
      " [ 0  2  9 27  0  2  0  1  4  0  0  0  2]\n",
      " [19  0  0  0 23  0  2  5  0  0  0  3  0]\n",
      " [ 1  2  8  7  0 11  0  0  4  0  0  2  1]\n",
      " [ 1  0  1  2  5  0  7  4  1  6  0  2  6]\n",
      " [ 2  1  4  1  4  1 12 16  2  6  0  3  0]\n",
      " [ 3  1  5  3  1  2  0  2 39  2  3  2  3]\n",
      " [ 7  3  8  0  2  0  3  2  2 30  0  4  0]\n",
      " [ 6  1  5  0  0  3  1  0  7  0 21  0  0]\n",
      " [ 5  3  7  2  1  0  6  5  6 12  0 22  1]\n",
      " [ 1  4  3  8  0  3  0  0  9  4  2  2 13]]\n"
     ]
    },
    {
     "data": {
      "image/png": "[encoded data removed]",
      "text/plain": [
       "<Figure size 432x288 with 2 Axes>"
      ]
     },
     "metadata": {},
     "output_type": "display_data"
    }
   ],
   "source": [
    "# Plot non-normalized confusion matrix\n",
    "plt.figure()\n",
    "plot_confusion_matrix(cnf_matrix, classes=class_names_short,\n",
    "                      title='Confusion matrix, without normalization')"
   ]
  },
  {
   "cell_type": "code",
   "execution_count": 39,
   "metadata": {},
   "outputs": [],
   "source": [
    "#report = metrics.classification_report(y_test, y_pred, target_names=class_names_short)\n",
    "report = metrics.classification_report(y_test, y_pred)"
   ]
  },
  {
   "cell_type": "code",
   "execution_count": 40,
   "metadata": {},
   "outputs": [
    {
     "data": {
      "text/plain": [
       "'             precision    recall  f1-score   support\\n\\n          0       0.36      0.61      0.45        46\\n          1       0.25      0.26      0.25        27\\n          2       0.13      0.23      0.16        39\\n          3       0.44      0.57      0.50        47\\n          4       0.57      0.44      0.50        52\\n          5       0.38      0.31      0.34        36\\n          6       0.21      0.20      0.20        35\\n          7       0.43      0.31      0.36        52\\n          8       0.48      0.59      0.53        66\\n          9       0.47      0.49      0.48        61\\n         10       0.81      0.48      0.60        44\\n         11       0.51      0.31      0.39        70\\n         12       0.42      0.27      0.33        49\\n\\navg / total       0.44      0.41      0.41       624\\n'"
      ]
     },
     "execution_count": 40,
     "metadata": {},
     "output_type": "execute_result"
    }
   ],
   "source": [
    "report"
   ]
  },
  {
   "cell_type": "code",
   "execution_count": 41,
   "metadata": {},
   "outputs": [],
   "source": [
    "def classification_report_csv(report):\n",
    "    report_data = []\n",
    "    lines = report.split('\\n')\n",
    "    for line in lines[2:-3]:\n",
    "        row = {}\n",
    "        row_data = line.split('      ')\n",
    "        row['class'] = row_data[0]\n",
    "        row['precision'] = float(row_data[1])\n",
    "        row['recall'] = float(row_data[2])\n",
    "        row['f1_score'] = float(row_data[3])\n",
    "        row['support'] = float(row_data[4])\n",
    "        report_data.append(row)\n",
    "    dataframe = pd.DataFrame.from_dict(report_data)\n",
    "    dataframe.to_csv('classification_report_proba.csv', index = False)\n",
    "\n",
    "classification_report_csv(report)"
   ]
  }
 ],
 "metadata": {
  "kernelspec": {
   "display_name": "Python 3",
   "language": "python",
   "name": "python3"
  },
  "language_info": {
   "codemirror_mode": {
    "name": "ipython",
    "version": 3
   },
   "file_extension": ".py",
   "mimetype": "text/x-python",
   "name": "python",
   "nbconvert_exporter": "python",
   "pygments_lexer": "ipython3",
   "version": "3.6.5"
  }
 },
 "nbformat": 4,
 "nbformat_minor": 2
}
