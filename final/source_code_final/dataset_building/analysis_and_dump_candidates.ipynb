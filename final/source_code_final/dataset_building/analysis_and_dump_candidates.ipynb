{
 "cells": [
  {
   "cell_type": "markdown",
   "metadata": {},
   "source": [
    "Candidates: I put everything unsure in U and then I add the size of PNP + U + candidates for each category."
   ]
  },
  {
   "cell_type": "code",
   "execution_count": 1,
   "metadata": {},
   "outputs": [],
   "source": [
    "import json\n",
    "import copy\n",
    "import matplotlib.pyplot as plt\n",
    "\n",
    "%matplotlib inline"
   ]
  },
  {
   "cell_type": "code",
   "execution_count": 2,
   "metadata": {},
   "outputs": [],
   "source": [
    "FOLDER_DATA = '../json_final/input/'\n",
    "MIN_VOTES_CAT = 70"
   ]
  },
  {
   "cell_type": "code",
   "execution_count": 3,
   "metadata": {},
   "outputs": [],
   "source": [
    "try:\n",
    "    with open(FOLDER_DATA + '/FS_sounds_ASO_postIQA.json') as data_file:\n",
    "        data_duration = json.load(data_file)\n",
    "except:\n",
    "    raise Exception(\n",
    "        'CHOOSE A MAPPING FILE AND ADD IT TO ' + FOLDER_DATA + 'json/ FOLDER (THE FILE INCLUDE DURATION INFORMATION NEEDED)')\n",
    "\n",
    "# load json with votes, to select only PP and PNP\n",
    "try:\n",
    "    with open(FOLDER_DATA + '/votes_dumped_2018_May_16.json') as data_file:\n",
    "        data_votes = json.load(data_file)\n",
    "except:\n",
    "    raise Exception(\n",
    "        'ADD THE FILE CONTAINING THE VOTES (list of dict \"value\", \"freesound_sound_id\", \"node_id\") AND ADD IT TO THE FOLDER ' + FOLDER_DATA + 'json/')\n",
    "\n",
    "# load json with ids and domestic categories info\n",
    "try:\n",
    "    with open(FOLDER_DATA + '/domestic_ids.json') as data_file:\n",
    "        domestic_ids = json.load(data_file)\n",
    "except:\n",
    "    raise Exception('ADD AN ONTOLOGY JSON FILE TO THE FOLDER ' + FOLDER_DATA + 'json/')\n",
    "\n",
    "# load json with ontology, to map aso_ids to understandable category names\n",
    "try:\n",
    "    with open(FOLDER_DATA + '/ontology.json') as data_file:\n",
    "        data_onto = json.load(data_file)\n",
    "except:\n",
    "    raise Exception('ADD AN ONTOLOGY JSON FILE TO THE FOLDER ' + FOLDER_DATA + 'json/')\n"
   ]
  },
  {
   "cell_type": "code",
   "execution_count": 4,
   "metadata": {},
   "outputs": [],
   "source": [
    "def check_GT(group, fsid, catid, vote_groups, fsids_assigned_cat, data_sounds):\n",
    "    # check if fsid has GT within a given group (PP,PNP,NP,U) of a category given by catid\n",
    "    # if it does, add it to assigned fsids and send it to the corresponding group in data_sounds\n",
    "    assigned = False\n",
    "    if vote_groups[group].count(fsid) > 1:\n",
    "        data_sounds[catid][group].append(fsid)\n",
    "        fsids_assigned_cat.append(fsid)\n",
    "        assigned = True\n",
    "    return data_sounds, fsids_assigned_cat, assigned"
   ]
  },
  {
   "cell_type": "code",
   "execution_count": 5,
   "metadata": {},
   "outputs": [],
   "source": [
    "def map_votedsound_2_disjointgroups_wo_agreement(fsid, catid, vote_groups, fsids_assigned_cat, data_sounds,\n",
    "                                                 error_mapping_count_cat, count_risky_PP):\n",
    "    # map the voted sound to a disjoint group  without inter-annotator agreement\n",
    "    # using set of arbitrary rules that cover all possible options\n",
    "    # being demanding now. only sending to PP when we are sure\n",
    "    \n",
    "    # retrieve votes for fsid.\n",
    "    # we know there is only one in PP\n",
    "    votes = []\n",
    "    if fsid in vote_groups['PP']:\n",
    "        votes.append(1.0)\n",
    "    if fsid in vote_groups['PNP']:\n",
    "        votes.append(0.5)\n",
    "    if fsid in vote_groups['U']:\n",
    "        votes.append(0.0)\n",
    "    if fsid in vote_groups['NP']:\n",
    "        votes.append(-1.0)\n",
    "\n",
    "    # votes has all the votes for fsid. let us take decisions\n",
    "\n",
    "    # trivial cases where there is only one single vote by one annotator\n",
    "    if 1.0 in votes and 0.5 not in votes and -1.0 not in votes and 0.0 not in votes:\n",
    "        # the only case where a sound is sent to PP without inter-annotator agreement\n",
    "        data_sounds[catid]['PP'].append(fsid)\n",
    "        fsids_assigned_cat.append(fsid)\n",
    "    elif 1.0 not in votes and 0.5 in votes and -1.0 not in votes and 0.0 not in votes:\n",
    "        # data_sounds[catid]['PNP'].append(fsid)\n",
    "        # single vote of PNP may be a bit unreliable. safer to send it to U group\n",
    "        # thus it goes to LQ (and not LQprior)\n",
    "        data_sounds[catid]['U'].append(fsid)\n",
    "        fsids_assigned_cat.append(fsid)\n",
    "    elif 1.0 not in votes and 0.5 not in votes and -1.0 in votes and 0.0 not in votes:\n",
    "        data_sounds[catid]['NP'].append(fsid)\n",
    "        fsids_assigned_cat.append(fsid)\n",
    "    elif 1.0 not in votes and 0.5 not in votes and -1.0 not in votes and 0.0 in votes:\n",
    "        data_sounds[catid]['U'].append(fsid)\n",
    "        fsids_assigned_cat.append(fsid)\n",
    "\n",
    "\n",
    "    # rest of 11 cases. placing first the PP options in case there is some error.\n",
    "\n",
    "    # 8 PP and PNP\n",
    "    elif 1.0 in votes and 0.5 in votes and -1.0 not in votes and 0.0 not in votes:\n",
    "        data_sounds[catid]['PNP'].append(fsid)\n",
    "        fsids_assigned_cat.append(fsid)\n",
    "        count_risky_PP += 1\n",
    "    # 9 PP and PNP and U\n",
    "    elif 1.0 in votes and 0.5 in votes and -1.0 not in votes and 0.0 in votes:\n",
    "        data_sounds[catid]['PNP'].append(fsid)\n",
    "        fsids_assigned_cat.append(fsid)\n",
    "        count_risky_PP += 1\n",
    "\n",
    "    # 1: NP and U\n",
    "    elif 1.0 not in votes and 0.5 not in votes and -1.0 in votes and 0.0 in votes:\n",
    "        data_sounds[catid]['NP'].append(fsid)\n",
    "        fsids_assigned_cat.append(fsid)\n",
    "    # 2: PNP and U\n",
    "    elif 1.0 not in votes and 0.5 in votes and -1.0 not in votes and 0.0 in votes:\n",
    "        data_sounds[catid]['U'].append(fsid)\n",
    "        fsids_assigned_cat.append(fsid)\n",
    "    # 3: PNP and NP\n",
    "    elif 1.0 not in votes and 0.5 in votes and -1.0 in votes and 0.0 not in votes:\n",
    "        data_sounds[catid]['NP'].append(fsid)\n",
    "        fsids_assigned_cat.append(fsid)\n",
    "    # 4: PNP and NP and U\n",
    "    elif 1.0 not in votes and 0.5 in votes and -1.0 in votes and 0.0 in votes:\n",
    "        data_sounds[catid]['NP'].append(fsid)\n",
    "        fsids_assigned_cat.append(fsid)\n",
    "\n",
    "    # 5: PP and U\n",
    "    elif 1.0 in votes and 0.5 not in votes and -1.0 not in votes and 0.0 in votes:\n",
    "        data_sounds[catid]['U'].append(fsid)\n",
    "        fsids_assigned_cat.append(fsid)\n",
    "    # 6: PP and NP\n",
    "    elif 1.0 in votes and 0.5 not in votes and -1.0 in votes and 0.0 not in votes:\n",
    "        data_sounds[catid]['NP'].append(fsid)\n",
    "        fsids_assigned_cat.append(fsid)\n",
    "    # 7: PP and NP and U\n",
    "    elif 1.0 in votes and 0.5 not in votes and -1.0 in votes and 0.0 in votes:\n",
    "        data_sounds[catid]['NP'].append(fsid)\n",
    "        fsids_assigned_cat.append(fsid)\n",
    "\n",
    "    # 10: PP and PNP and NP\n",
    "    elif 1.0 in votes and 0.5 in votes and -1.0 in votes and 0.0 not in votes:\n",
    "        data_sounds[catid]['NP'].append(fsid)\n",
    "        fsids_assigned_cat.append(fsid)\n",
    "    # 11: PP and PNP and NP and U\n",
    "    elif 1.0 in votes and 0.5 in votes and -1.0 in votes and 0.0 in votes:\n",
    "        data_sounds[catid]['NP'].append(fsid)\n",
    "        fsids_assigned_cat.append(fsid)\n",
    "\n",
    "    else:\n",
    "        # print('\\n something unexpetected happened in the mapping********************* \\n')\n",
    "        error_mapping_count_cat += 1\n",
    "        # sys.exit('something unexpetected happened in the mapping!')\n",
    "\n",
    "    return data_sounds, fsids_assigned_cat, error_mapping_count_cat, count_risky_PP\n"
   ]
  },
  {
   "cell_type": "code",
   "execution_count": 6,
   "metadata": {},
   "outputs": [],
   "source": [
    "# Extract from all the votes only the domestic ones\n",
    "domestic_votes = dict()\n",
    "#votes of only the domestic categories (that I control from the external json file i.e. I can add or remove categories)\n",
    "domestic_votes = {c: data_votes[c] for c in data_votes if c in domestic_ids.keys()}\n",
    "\n",
    "\"\"\" # from data_votes to data_sounds ******************************************************************************\"\"\"\n",
    "# Assign sounds to disjoint GROUPS (PP, PNP, NP, U) based on the combination of votes that they have\n",
    "\n",
    "# create copy of data_votes\n",
    "data_sounds = copy.deepcopy(domestic_votes)\n",
    "for catid, vote_groups in data_sounds.items():\n",
    "    data_sounds[catid]['PP'] = []\n",
    "    data_sounds[catid]['PNP'] = []\n",
    "    data_sounds[catid]['NP'] = []\n",
    "    data_sounds[catid]['U'] = []\n",
    "    data_sounds[catid]['QE'] = 0    # initialzed to 0. only if more than MIN_VOTES_CAT, we compute it\n",
    "\n",
    "# count cases where the mapping from votes to sounds fails\n",
    "error_mapping_count_cats = []\n",
    "\n",
    "# to keep track of combinations\n",
    "# PP + PNP and PP + PNP + U\n",
    "count_risky_PP = 0\n",
    "\n",
    "for catid, vote_groups in domestic_votes.items():\n",
    "    # list to keep track of assigned fsids within a category, to achieve disjoint subsets of audio samples\n",
    "    fsids_assigned_cat = []\n",
    "    error_mapping_count_cat = 0\n",
    "\n",
    "    # check GT in PP\n",
    "    # check GT in the rest of the groups\n",
    "    # if GT does not exist, take mapping decision without inter-annotator agreement\n",
    "    for fsid in vote_groups['PP']:\n",
    "        # print fsid\n",
    "        # search for GT in this group\n",
    "        if vote_groups['PP'].count(fsid) > 1:\n",
    "            if fsid not in fsids_assigned_cat:\n",
    "                data_sounds[catid]['PP'].append(fsid)\n",
    "                fsids_assigned_cat.append(fsid)\n",
    "        else:\n",
    "            # search for GT in other groups of votes\n",
    "            data_sounds, fsids_assigned_cat, assigned = check_GT('PNP', fsid, catid, vote_groups, fsids_assigned_cat,\n",
    "                                                                 data_sounds)\n",
    "            if not assigned:\n",
    "                data_sounds, fsids_assigned_cat, assigned = check_GT('U', fsid, catid, vote_groups, fsids_assigned_cat,\n",
    "                                                                     data_sounds)\n",
    "            if not assigned:\n",
    "                data_sounds, fsids_assigned_cat, assigned = check_GT('NP', fsid, catid, vote_groups, fsids_assigned_cat,\n",
    "                                                                     data_sounds)\n",
    "\n",
    "        # no GT was found for the annotation (2 votes in the same group).\n",
    "        # we must take decisions without inter-annotator agreement\n",
    "\n",
    "        if fsid not in fsids_assigned_cat:\n",
    "            # map the voted sound to a disjoint group  without inter-annotator agreement\n",
    "            data_sounds, fsids_assigned_cat, error_mapping_count_cat, count_risky_PP = map_votedsound_2_disjointgroups_wo_agreement(\n",
    "                fsid, catid, vote_groups, fsids_assigned_cat, data_sounds, error_mapping_count_cat, count_risky_PP)\n",
    "\n",
    "    # check GT in PNP\n",
    "    # check GT in the remaining groups\n",
    "    # if GT does not exist, take mapping decision without inter-annotator agreement\n",
    "    for fsid in vote_groups['PNP']:\n",
    "        # print fsid\n",
    "\n",
    "        # only if the fsid has not been assigned in previous passes\n",
    "        if fsid not in fsids_assigned_cat:\n",
    "            # search for GT in this group\n",
    "            if vote_groups['PNP'].count(fsid) > 1:\n",
    "                if fsid not in fsids_assigned_cat:\n",
    "                    data_sounds[catid]['PNP'].append(fsid)\n",
    "                    fsids_assigned_cat.append(fsid)\n",
    "            else:\n",
    "                # search for GT in the remaining groups of votes\n",
    "                data_sounds, fsids_assigned_cat, assigned = check_GT('U', fsid, catid, vote_groups, fsids_assigned_cat,\n",
    "                                                                     data_sounds)\n",
    "                if not assigned:\n",
    "                    data_sounds, fsids_assigned_cat, assigned = check_GT('NP', fsid, catid, vote_groups,\n",
    "                                                                         fsids_assigned_cat, data_sounds)\n",
    "\n",
    "            # no GT was found for the annotation (2 votes in the same group).\n",
    "            # we must take decisions without inter-annotator agreement\n",
    "\n",
    "            if fsid not in fsids_assigned_cat:\n",
    "                # map the voted sound to a disjoint group  without inter-annotator agreement\n",
    "                data_sounds, fsids_assigned_cat, error_mapping_count_cat, count_risky_PP = map_votedsound_2_disjointgroups_wo_agreement(\n",
    "                    fsid, catid, vote_groups, fsids_assigned_cat, data_sounds, error_mapping_count_cat, count_risky_PP)\n",
    "\n",
    "    # check GT in U\n",
    "    # check GT in the remaining groups\n",
    "    # if GT does not exist, take mapping decision without inter-annotator agreement\n",
    "    for fsid in vote_groups['U']:\n",
    "        # print fsid\n",
    "\n",
    "        # only if the fsid has not been assigned in previous passes\n",
    "        if fsid not in fsids_assigned_cat:\n",
    "            # search for GT in this group\n",
    "            if vote_groups['U'].count(fsid) > 1:\n",
    "                if fsid not in fsids_assigned_cat:\n",
    "                    data_sounds[catid]['U'].append(fsid)\n",
    "                    fsids_assigned_cat.append(fsid)\n",
    "            else:\n",
    "                # search for GT in the remaining groups of votes\n",
    "                data_sounds, fsids_assigned_cat, assigned = check_GT('NP', fsid, catid, vote_groups, fsids_assigned_cat,\n",
    "                                                                     data_sounds)\n",
    "\n",
    "            # no GT was found for the annotation (2 votes in the same group).\n",
    "            # we must take decisions without inter-annotator agreement\n",
    "\n",
    "            if fsid not in fsids_assigned_cat:\n",
    "                # map the voted sound to a disjoint group  without inter-annotator agreement\n",
    "                data_sounds, fsids_assigned_cat, error_mapping_count_cat, count_risky_PP = map_votedsound_2_disjointgroups_wo_agreement(\n",
    "                    fsid, catid, vote_groups, fsids_assigned_cat, data_sounds, error_mapping_count_cat, count_risky_PP)\n",
    "\n",
    "    # check GT in NP\n",
    "    # check GT in the remaining groups? no need to. already done in previous passes\n",
    "    # if GT does not exist, take mapping decision without inter-annotator agreement\n",
    "    for fsid in vote_groups['NP']:\n",
    "        # print fsid\n",
    "\n",
    "        # only if the fsid has not been assigned in previous passes\n",
    "        if fsid not in fsids_assigned_cat:\n",
    "            # search for GT in this group\n",
    "            if vote_groups['NP'].count(fsid) > 1:\n",
    "                if fsid not in fsids_assigned_cat:\n",
    "                    data_sounds[catid]['NP'].append(fsid)\n",
    "                    fsids_assigned_cat.append(fsid)\n",
    "            # else: no need to. already done in previous passes\n",
    "\n",
    "            # no GT was found for the annotation (2 votes in the same group).\n",
    "            # we must take decisions without inter-annotator agreement\n",
    "            else:\n",
    "                # if fsid not in fsids_assigned_cat:\n",
    "                # map the voted sound to a disjoint group  without inter-annotator agreement\n",
    "                data_sounds, fsids_assigned_cat, error_mapping_count_cat, count_risky_PP = map_votedsound_2_disjointgroups_wo_agreement(\n",
    "                    fsid, catid, vote_groups, fsids_assigned_cat, data_sounds, error_mapping_count_cat, count_risky_PP)\n",
    "\n",
    "    # store mapping error for every category\n",
    "    error_mapping_count_cats.append(error_mapping_count_cat)\n",
    "\n",
    "    # for every category compute QE here number of votes len(PP) + len(PNP) / all\n",
    "    # QE should only be computed if there are more than MIN_VOTES_CAT votes. else not reliable\n",
    "    # if (len(vote_groups['PP']) + len(vote_groups['PNP']) + len(vote_groups['NP']) + len(\n",
    "    #         vote_groups['U'])) >= MIN_VOTES_CAT:\n",
    "    #     data_sounds[catid]['QE'] = (len(vote_groups['PP']) + len(vote_groups['PNP'])) / float(\n",
    "    #         len(vote_groups['PP']) + len(vote_groups['PNP']) + len(vote_groups['NP']) + len(vote_groups['U']))\n"
   ]
  },
  {
   "cell_type": "markdown",
   "metadata": {},
   "source": [
    "# HQ DATASET"
   ]
  },
  {
   "cell_type": "code",
   "execution_count": 7,
   "metadata": {},
   "outputs": [
    {
     "name": "stdout",
     "output_type": "stream",
     "text": [
      "Bathtub (filling or washing): 34\n",
      "Chopping (food): 55\n",
      "Blender: 48\n",
      "Coin (dropping): 127\n",
      "Cupboard open or close: 104\n",
      "Cutlery,silverware: 27\n",
      "Dishes, pots, and pans: 51\n",
      "Door: 155\n",
      "Drawer open or close: 117\n",
      "Electric shaver, electric razor: 24\n",
      "Frying (food): 26\n",
      "Hair dryer: 54\n",
      "Kettle whistle: 0\n",
      "Keys jangling: 122\n",
      "Microwave oven: 100\n",
      "Packing tape, duct tape: 95\n",
      "Scissors: 126\n",
      "Shuffling cards: 43\n",
      "Sink (filling or washing): 25\n",
      "Toilet flush: 156\n",
      "Toothbrush: 76\n",
      "Typing: 153\n",
      "Vacuum cleaner: 102\n",
      "Velcro, hook and loop fastener: 74\n",
      "Water tap, faucet: 44\n",
      "Writing: 147\n",
      "Zipper (clothing): 132\n"
     ]
    }
   ],
   "source": [
    "for i in domestic_ids:\n",
    "    print(domestic_ids[i] + \": \" + str(len(data_sounds[i][\"PP\"])))"
   ]
  },
  {
   "cell_type": "code",
   "execution_count": 26,
   "metadata": {},
   "outputs": [],
   "source": [
    "dataset = dict()\n",
    "dataset_90 = dict()\n",
    "for key,value in domestic_ids.items():\n",
    "    dataset[value] = data_sounds[key][\"PP\"]\n",
    "\n",
    "for key,value in domestic_ids.items():\n",
    "    if len(data_sounds[key][\"PP\"]) > 90:\n",
    "        dataset_90[value] = len(data_sounds[key][\"PP\"])\n",
    "\n",
    "#with open('dataset_categories_nb.json', 'w') as fp:\n",
    "#    json.dump(dataset, fp)"
   ]
  },
  {
   "cell_type": "code",
   "execution_count": 27,
   "metadata": {},
   "outputs": [
    {
     "data": {
      "image/png": "[encoded data removed]",
      "text/plain": [
       "<Figure size 432x288 with 1 Axes>"
      ]
     },
     "metadata": {},
     "output_type": "display_data"
    }
   ],
   "source": [
    "f = plt.figure(2)\n",
    "plt.bar(dataset_90.keys(), dataset_90.values(), 1.0, color='g')\n",
    "plt.title(\"HQ after filtering\")\n",
    "plt.xticks(rotation=90)\n",
    "plt.ylabel(\"n\")\n",
    "plt.grid()\n",
    "plt.savefig('hq_after_filter.png', bbox_inches='tight')"
   ]
  },
  {
   "cell_type": "code",
   "execution_count": 13,
   "metadata": {},
   "outputs": [
    {
     "data": {
      "image/png": "[encoded data removed]",
      "text/plain": [
       "<Figure size 432x288 with 1 Axes>"
      ]
     },
     "metadata": {},
     "output_type": "display_data"
    }
   ],
   "source": [
    "f = plt.figure(2)\n",
    "plt.bar(dataset_len.keys(), dataset_len.values(), 1.0, color='r')\n",
    "plt.title(\"HQ before filtering\")\n",
    "plt.xticks(rotation=90)\n",
    "plt.ylabel(\"n\")\n",
    "plt.grid()\n",
    "plt.savefig('hq_before_filter.png', bbox_inches='tight')"
   ]
  },
  {
   "cell_type": "code",
   "execution_count": null,
   "metadata": {},
   "outputs": [],
   "source": [
    "dataset_with_candidates = dict()\n",
    "for key,value in domestic_ids.items():\n",
    "    dataset_with_candidates[value] = data_sounds[key][\"PP\"]\n",
    "\n",
    "for key,value in domestic_ids.items():\n",
    "    dataset_with_candidates[value] = data_sounds[key][\"PNP\"]\n",
    "\n",
    "for key,value in domestic_ids.items():\n",
    "    dataset_with_candidates[value] = data_sounds[key][\"U\"]\n",
    "\n",
    "for key,value in domestic_ids.items():\n",
    "    dataset_with_candidates[value] = data_sounds[key][\"candidates\"]\n",
    "\n",
    "#with open('dataset_categories_with_candidates_nb.json', 'w') as fp:\n",
    "#    json.dump(dataset_with_candidates, fp)"
   ]
  },
  {
   "cell_type": "markdown",
   "metadata": {},
   "source": [
    "## Candidates (PNP + U + candidates)"
   ]
  },
  {
   "cell_type": "code",
   "execution_count": null,
   "metadata": {},
   "outputs": [],
   "source": [
    "n_candidates = dict()\n",
    "\n",
    "for i in domestic_ids:\n",
    "    n_candidates[domestic_ids[i]] = len(data_sounds[i]['PNP']) + len(data_sounds[i]['U']) + len(data_sounds[i]['candidates'])"
   ]
  },
  {
   "cell_type": "code",
   "execution_count": null,
   "metadata": {},
   "outputs": [],
   "source": [
    "candidates = dict()\n",
    "\n",
    "for i in domestic_ids:\n",
    "    candidates[domestic_ids[i]] = data_sounds[i]['PNP'] + data_sounds[i]['U'] + data_sounds[i]['candidates']"
   ]
  },
  {
   "cell_type": "code",
   "execution_count": null,
   "metadata": {},
   "outputs": [],
   "source": [
    "candidates"
   ]
  },
  {
   "cell_type": "code",
   "execution_count": null,
   "metadata": {},
   "outputs": [],
   "source": [
    "f = plt.figure(1)\n",
    "plt.bar(n_candidates.keys(), n_candidates.values(), 1.0, color='r')\n",
    "plt.title(\"candidates-per-category\")\n",
    "plt.xticks(rotation=90)\n",
    "plt.ylabel(\"n\")"
   ]
  },
  {
   "cell_type": "code",
   "execution_count": null,
   "metadata": {},
   "outputs": [],
   "source": [
    "n_candidates_90 = dict()\n",
    "\n",
    "for key,value in domestic_ids.items():\n",
    "    if len(data_sounds[key][\"PP\"]) > 90:\n",
    "        n_candidates_90[domestic_ids[key]] = len(data_sounds[key]['PNP']) + len(data_sounds[key]['U']) + len(data_sounds[key]['candidates'])\n",
    "        print(domestic_ids[key] + \": \" + str(len(data_sounds[key]['PNP']) + len(data_sounds[key]['U']) + len(data_sounds[key]['candidates'])))"
   ]
  },
  {
   "cell_type": "code",
   "execution_count": null,
   "metadata": {},
   "outputs": [],
   "source": [
    "candidates_90 = dict()\n",
    "\n",
    "for key,value in domestic_ids.items():\n",
    "    if len(data_sounds[key][\"PP\"]) > 90:\n",
    "        candidates_90[domestic_ids[key]] = data_sounds[key]['PNP'] + data_sounds[key]['U'] + data_sounds[key]['candidates']\n",
    "        print(domestic_ids[key] + \": \" + str(len(data_sounds[key]['PNP']) + len(data_sounds[key]['U']) + len(data_sounds[key]['candidates'])))"
   ]
  },
  {
   "cell_type": "code",
   "execution_count": null,
   "metadata": {},
   "outputs": [],
   "source": [
    "#with open('../json_final/generated/candidates.json', 'w') as fp:\n",
    "#    json.dump(candidates_90, fp)"
   ]
  },
  {
   "cell_type": "code",
   "execution_count": null,
   "metadata": {},
   "outputs": [],
   "source": [
    "f = plt.figure(2)\n",
    "plt.bar(n_candidates_90.keys(), n_candidates_90.values(), 1.0, color='r')\n",
    "plt.title(\"candidates-per-category only HQ\")\n",
    "plt.xticks(rotation=90)\n",
    "plt.ylabel(\"n\")\n",
    "plt.savefig('candidates_per_category.png', bbox_inches='tight')"
   ]
  },
  {
   "cell_type": "code",
   "execution_count": null,
   "metadata": {},
   "outputs": [],
   "source": [
    "qe_categories = dict()\n",
    "# for every category compute QE here number of votes len(PP) + len(PNP) / all\n",
    "# QE should only be computed if there are more than MIN_VOTES_CAT votes. else not reliable\n",
    "for i in domestic_ids:\n",
    "    data_sounds[i]['QE'] = (len(data_sounds[i]['PP']) + len(data_sounds[i]['PNP'])) / float(\n",
    "        len(data_sounds[i]['PP']) + len(data_sounds[i]['PNP']) + len(data_sounds[i]['NP']) + len(data_sounds[i]['U']))\n",
    "    if len(data_sounds[i][\"PP\"]) > 90:\n",
    "        qe_categories[domestic_ids[i]] = data_sounds[i]['QE']"
   ]
  },
  {
   "cell_type": "code",
   "execution_count": null,
   "metadata": {},
   "outputs": [],
   "source": [
    "for i in domestic_ids:\n",
    "    if len(data_sounds[i][\"PP\"]) > 90:\n",
    "        print(domestic_ids[i] + \": \" + str(qe_categories[domestic_ids[i]]))"
   ]
  },
  {
   "cell_type": "code",
   "execution_count": null,
   "metadata": {},
   "outputs": [],
   "source": [
    "f = plt.figure(2)\n",
    "plt.bar(qe_categories.keys(), qe_categories.values(), 1.0, color='g')\n",
    "plt.title(\"QE per category\")\n",
    "plt.xticks(rotation=90)\n",
    "plt.ylabel(\"n\")\n",
    "plt.savefig('qe.png', bbox_inches='tight')"
   ]
  },
  {
   "cell_type": "code",
   "execution_count": null,
   "metadata": {},
   "outputs": [],
   "source": []
  }
 ],
 "metadata": {
  "kernelspec": {
   "display_name": "Python 3",
   "language": "python",
   "name": "python3"
  },
  "language_info": {
   "codemirror_mode": {
    "name": "ipython",
    "version": 3
   },
   "file_extension": ".py",
   "mimetype": "text/x-python",
   "name": "python",
   "nbconvert_exporter": "python",
   "pygments_lexer": "ipython3",
   "version": "3.6.5"
  }
 },
 "nbformat": 4,
 "nbformat_minor": 2
}
