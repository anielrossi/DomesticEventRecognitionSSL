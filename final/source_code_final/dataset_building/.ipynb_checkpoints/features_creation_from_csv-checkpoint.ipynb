{
 "cells": [
  {
   "cell_type": "code",
   "execution_count": 1,
   "metadata": {},
   "outputs": [],
   "source": [
    "from __future__ import print_function\n",
    "import freesound\n",
    "import random\n",
    "import utils\n",
    "import json\n",
    "from IPython.core.display import display, HTML\n",
    "from collections import defaultdict\n",
    "\n",
    "API_KEY='Ba3FmvMrgAuJSOT2MmaU6LC9BzjlwkXq49AZ5ib1'\n",
    "c = freesound.FreesoundClient()\n",
    "c.set_token(API_KEY,\"token\")\n",
    "PAGE_SIZE = 50 # Page size for fs requests, no need to change that"
   ]
  },
  {
   "cell_type": "code",
   "execution_count": 2,
   "metadata": {},
   "outputs": [],
   "source": [
    "# Configure dataset parameters and audio categories\n",
    "\n",
    "DATASET_NAME = '../../json_final/generated/baseline' # Dataset will be saved in a .json file with this name\n",
    "N = None # Number of sounds per class (set 'None' to get all in dataset)\n",
    "DATASET_CLASSES = [\"Bathtub (filling or washing)\",\n",
    "  \"Chopping (food)\",\n",
    "  \"Blender\",\n",
    "  \"Coin (dropping)\",\n",
    "  \"Cupboard open or close\",\n",
    "  \"Cutlery,silverware\",\n",
    "  \"Dishes, pots, and pans\",\n",
    "  \"Door\",\n",
    "  \"Drawer open or close\",\n",
    "  \"Electric shaver, electric razor\",\n",
    "  \"Frying (food)\",\n",
    "  \"Hair dryer\",\n",
    "  \"Kettle whistle\",\n",
    "  \"Keys jangling\",\n",
    "  \"Microwave oven\",\n",
    "  \"Packing tape, duct tape\",\n",
    "  \"Scissors\",\n",
    "  \"Shuffling cards\",\n",
    "  \"Sink (filling or washing)\",\n",
    "  \"Toilet flush\",\n",
    "  \"Toothbrush\",\n",
    "  \"Typing\",\n",
    "  \"Vacuum cleaner\",\n",
    "  \"Velcro, hook and loop fastener\",\n",
    "  \"Water tap, faucet\",\n",
    "  \"Writing\",\n",
    "  \"Zipper (clothing)\"\n",
    "]\n",
    "# Get sound examples from Freesound\n",
    "data_index = json.load(open('../../json_final/generated/dataset_categories_more_than_90.json'))\n",
    "dataset = defaultdict(list)"
   ]
  },
  {
   "cell_type": "code",
   "execution_count": 3,
   "metadata": {},
   "outputs": [
    {
     "name": "stdout",
     "output_type": "stream",
     "text": [
      "Skipping class Bathtub (filling or washing) as no data is available for it\n",
      "Skipping class Chopping (food) as no data is available for it\n",
      "Skipping class Blender as no data is available for it\n",
      "Getting sounds' data for class Coin (dropping)...\n",
      "Getting sounds' data for class Cupboard open or close...\n",
      "Skipping class Cutlery,silverware as no data is available for it\n",
      "Skipping class Dishes, pots, and pans as no data is available for it\n",
      "Getting sounds' data for class Door...\n",
      "Getting sounds' data for class Drawer open or close...\n",
      "Skipping class Electric shaver, electric razor as no data is available for it\n",
      "Skipping class Frying (food) as no data is available for it\n",
      "Skipping class Hair dryer as no data is available for it\n",
      "Skipping class Kettle whistle as no data is available for it\n",
      "Getting sounds' data for class Keys jangling...\n",
      "Getting sounds' data for class Microwave oven...\n",
      "Getting sounds' data for class Packing tape, duct tape...\n",
      "Getting sounds' data for class Scissors...\n",
      "Skipping class Shuffling cards as no data is available for it\n",
      "Skipping class Sink (filling or washing) as no data is available for it\n",
      "Getting sounds' data for class Toilet flush...\n",
      "Skipping class Toothbrush as no data is available for it\n",
      "Getting sounds' data for class Typing...\n",
      "Getting sounds' data for class Vacuum cleaner...\n",
      "Skipping class Velcro, hook and loop fastener as no data is available for it\n",
      "Skipping class Water tap, faucet as no data is available for it\n",
      "Getting sounds' data for class Writing...\n",
      "Getting sounds' data for class Zipper (clothing)...\n"
     ]
    }
   ],
   "source": [
    "for klass in DATASET_CLASSES:\n",
    "    sound_ids = data_index.get(klass, None)\n",
    "    # retrieve all the ids of the current category\n",
    "    if sound_ids is None:\n",
    "        print('Skipping class %s as no data is available for it' % klass)\n",
    "        continue\n",
    "    # if there are any skip to the next category(it depends from the data_index.json)\n",
    "    random.shuffle(sound_ids)  # Shuffle order of sound ids\n",
    "    sound_ids = sound_ids[:N]  # Limit number of selected sound ids\n",
    "\n",
    "    print('Getting sounds\\' data for class %s...' % klass)\n",
    "    for i in range(0, len(sound_ids), PAGE_SIZE):\n",
    "        current_sound_ids = sound_ids[i:i + PAGE_SIZE]\n",
    "\n",
    "        fields = \"id,name,description,analysis\"\n",
    "        descriptors = \"sfx.duration,sfx.logattacktime,sfx.strongdecay,sfx.inharmonicity,lowlevel.silence_rate_20dB,\" \\\n",
    "                      \"lowlevel.mfcc,lowlevel.zerocrossingrate,lowlevel.spectralflux, \" \\\n",
    "                      \"lowlevel.silence_rate_30dB, lowlevel.silence_rate_60dB, lowlevel.spectral_energyband_low,\" \\\n",
    "                      \"lowlevel.spectral_energyband_middle_low, lowlevel.spectral_energyband_middle_high,\" \\\n",
    "                      \"lowlevel.spectral_energyband_high\"\n",
    "        results_pager = c.text_search(\n",
    "            filter='id:(%s)' % ' OR '.join([str(sid) for sid in current_sound_ids]),\n",
    "            page_size=PAGE_SIZE,\n",
    "            fields=fields,\n",
    "            descriptors=descriptors\n",
    "        )\n",
    "        dataset[klass] += results_pager.results\n",
    "\n",
    "        # TIP ON AUDIO FEATURES: you can get also audio features extracted in freesound by passing a 'descriptors'\n",
    "        # parameter in the text_search function and including 'analysis' in the fields list\n",
    "        # (see http://www.freesound.org/docs/api/resources_apiv2.html#response-sound-list):\n",
    "        #\n",
    "        # fields = \"id,tags,description,username,analysis\"\n",
    "        # descriptors = \"lowlevel.spectral_centroid,lowlevel.barkbands.mean\"\n",
    "        #\n",
    "        # e.g.: results_page = c.text_search(query=target_query, ..., fields=fields, descriptors=descriptors)\n",
    "        # ..."
   ]
  },
  {
   "cell_type": "code",
   "execution_count": 4,
   "metadata": {},
   "outputs": [
    {
     "name": "stdout",
     "output_type": "stream",
     "text": [
      "\n",
      "Dataset created with 13 classes:\n",
      "\tCoin (dropping): 127 sounds\n",
      "\tCupboard open or close: 104 sounds\n",
      "\tDoor: 155 sounds\n",
      "\tDrawer open or close: 117 sounds\n",
      "\tKeys jangling: 122 sounds\n",
      "\tMicrowave oven: 98 sounds\n",
      "\tPacking tape, duct tape: 95 sounds\n",
      "\tScissors: 126 sounds\n",
      "\tToilet flush: 156 sounds\n",
      "\tTyping: 153 sounds\n",
      "\tVacuum cleaner: 102 sounds\n",
      "\tWriting: 147 sounds\n",
      "\tZipper (clothing): 132 sounds\n",
      "Saved to ../../json_final/generated/baseline.json\n"
     ]
    }
   ],
   "source": [
    "# Show information and save dataset to file so we can work with it later on\n",
    "utils.save_to_json('%s.json' % DATASET_NAME, dataset)\n",
    "print('\\nDataset created with %i classes:' % len(dataset))\n",
    "for klass, sounds in dataset.items():\n",
    "    print('\\t%s: %i sounds' % (klass, len(sounds)))\n",
    "print('Saved to %s' % '%s.json' % DATASET_NAME)"
   ]
  }
 ],
 "metadata": {
  "kernelspec": {
   "display_name": "Python 3",
   "language": "python",
   "name": "python3"
  },
  "language_info": {
   "codemirror_mode": {
    "name": "ipython",
    "version": 3
   },
   "file_extension": ".py",
   "mimetype": "text/x-python",
   "name": "python",
   "nbconvert_exporter": "python",
   "pygments_lexer": "ipython3",
   "version": "3.6.5"
  }
 },
 "nbformat": 4,
 "nbformat_minor": 2
}
